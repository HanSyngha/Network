{
 "cells": [
  {
   "cell_type": "code",
   "execution_count": 4,
   "metadata": {},
   "outputs": [],
   "source": [
    "from random import *\n",
    "import os\n",
    "from tqdm import tqdm\n",
    "os.environ[\"CUDA_DEVICE_ORDER\"] = \"PCI_BUS_ID\"\n",
    "os.environ['CUDA_VISIBLE_DEVICES'] = '2'\n",
    "os.environ[\"TF_CPP_MIN_LOG_LEVEL\"] = '3'\n",
    "import PIL\n",
    "import tensorflow as tf\n",
    "import numpy as np\n",
    "from keras import layers\n",
    "from keras.models import load_model\n",
    "from keras.preprocessing.image import ImageDataGenerator\n",
    "from keras.applications import VGG16\n",
    "from keras.optimizers import SGD\n",
    "from keras import Sequential\n",
    "import warnings\n",
    "import math\n",
    "import sys\n",
    "import gc"
   ]
  },
  {
   "cell_type": "code",
   "execution_count": 5,
   "metadata": {},
   "outputs": [],
   "source": [
    "path = \"/media/2/Network/extracted_feature/whole_shuffle_to_19/with_error/\"\n",
    "list_train_data = [path+\"train_feature_0.npy\",path+\"train_feature_400000.npy\",path+\"train_feature_800000.npy\"]\n",
    "list_train_label = [path+\"train_label_0.npy\",path+\"train_label_400000.npy\",path+\"train_label_800000.npy\"]\n",
    "#list_train_data = [path+\"train_feature_400000.npy\",path+\"train_feature_0.npy\",path+\"train_feature_800000.npy\"]\n",
    "#list_train_label = [path+\"train_label_400000.npy\",path+\"train_label_0.npy\",path+\"train_label_800000.npy\"]\n",
    "train_data = []\n",
    "train_label = []"
   ]
  },
  {
   "cell_type": "code",
   "execution_count": 6,
   "metadata": {},
   "outputs": [],
   "source": [
    "#for i in range(3):\n",
    "#    train_data\n",
    "train_data = np.load(list_train_data[0])\n",
    "#train_label = np.load(list_train_label[0])"
   ]
  },
  {
   "cell_type": "code",
   "execution_count": 7,
   "metadata": {},
   "outputs": [],
   "source": [
    "\n",
    "train_data_1 = np.load(list_train_data[1])\n",
    "#train_label_1 = np.load(list_train_label[1])"
   ]
  },
  {
   "cell_type": "code",
   "execution_count": 21,
   "metadata": {},
   "outputs": [
    {
     "data": {
      "text/plain": [
       "((398917, 7, 7, 512), (398917, 1000))"
      ]
     },
     "execution_count": 21,
     "metadata": {},
     "output_type": "execute_result"
    }
   ],
   "source": [
    "train_data.shape,train_label.shape"
   ]
  },
  {
   "cell_type": "code",
   "execution_count": 8,
   "metadata": {},
   "outputs": [
    {
     "data": {
      "text/plain": [
       "(797869, 1000)"
      ]
     },
     "execution_count": 8,
     "metadata": {},
     "output_type": "execute_result"
    }
   ],
   "source": [
    "tmp = np.concatenate((train_data,train_data_1),axis=0)\n",
    "tmp.shape #(797869, 7, 7, 512) = ((398917, 7, 7, 512) + (398952, 7, 7, 512))"
   ]
  },
  {
   "cell_type": "code",
   "execution_count": 23,
   "metadata": {},
   "outputs": [
    {
     "data": {
      "text/plain": [
       "((398917, 7, 7, 512), (398952, 7, 7, 512))"
      ]
     },
     "execution_count": 23,
     "metadata": {},
     "output_type": "execute_result"
    }
   ],
   "source": [
    "train_data.shape,train_data_1.shape"
   ]
  },
  {
   "cell_type": "code",
   "execution_count": 24,
   "metadata": {},
   "outputs": [],
   "source": [
    "\n",
    "train_data_2 = np.load(list_train_data[2])\n",
    "train_label_2 = np.load(list_train_label[2])"
   ]
  },
  {
   "cell_type": "code",
   "execution_count": 25,
   "metadata": {},
   "outputs": [
    {
     "data": {
      "text/plain": [
       "(1279036, 7, 7, 512)"
      ]
     },
     "execution_count": 25,
     "metadata": {},
     "output_type": "execute_result"
    }
   ],
   "source": [
    "tmp = np.concatenate((tmp,train_data_2),axis=0)\n",
    "tmp.shape"
   ]
  },
  {
   "cell_type": "code",
   "execution_count": null,
   "metadata": {},
   "outputs": [],
   "source": []
  },
  {
   "cell_type": "code",
   "execution_count": null,
   "metadata": {},
   "outputs": [],
   "source": [
    "!ls /media/2/Network/"
   ]
  },
  {
   "cell_type": "code",
   "execution_count": 3,
   "metadata": {},
   "outputs": [
    {
     "data": {
      "text/plain": [
       "(1279036, 7, 7, 512)"
      ]
     },
     "execution_count": 3,
     "metadata": {},
     "output_type": "execute_result"
    }
   ],
   "source": [
    "tmp = np.load(\"./whole_feature.npy\",mmap_mode=\"r\")\n",
    "tmp.shape"
   ]
  },
  {
   "cell_type": "code",
   "execution_count": 11,
   "metadata": {},
   "outputs": [
    {
     "name": "stdout",
     "output_type": "stream",
     "text": [
      "(398917, 1000) (398952, 1000)\n",
      "(797869, 1000) 797869\n"
     ]
    }
   ],
   "source": [
    "\n",
    "train_label = np.load(list_train_label[0],mmap_mode=\"r\")\n",
    "train_label_1 = np.load(list_train_label[1],mmap_mode=\"r\")\n",
    "print(train_label.shape,train_label_1.shape)\n",
    "\n",
    "tmp = np.concatenate((train_label,train_label_1),axis=0)\n",
    "length = len(train_label)+len(train_label_1)\n",
    "print(tmp.shape,length)\n",
    "#(797869, 7, 7, 512) = ((398917, 7, 7, 512) + (398952, 7, 7, 512))"
   ]
  },
  {
   "cell_type": "code",
   "execution_count": 12,
   "metadata": {},
   "outputs": [
    {
     "name": "stdout",
     "output_type": "stream",
     "text": [
      "(1279036, 1000) 1279036\n"
     ]
    }
   ],
   "source": [
    "train_label_2 = np.load(list_train_label[2],mmap_mode=\"r\")\n",
    "tmp = np.concatenate((tmp,train_label_2),axis=0)\n",
    "length += len(train_label_2)\n",
    "print(tmp.shape,length)"
   ]
  },
  {
   "cell_type": "code",
   "execution_count": 13,
   "metadata": {},
   "outputs": [],
   "source": [
    "np.save(\"./whole_label\",tmp)"
   ]
  },
  {
   "cell_type": "code",
   "execution_count": 15,
   "metadata": {},
   "outputs": [
    {
     "data": {
      "text/plain": [
       "(1279036, 1000)"
      ]
     },
     "execution_count": 15,
     "metadata": {},
     "output_type": "execute_result"
    }
   ],
   "source": [
    "tmp1 = np.load(\"./whole_label.npy\",mmap_mode=\"r\")\n",
    "tmp1.shape"
   ]
  },
  {
   "cell_type": "code",
   "execution_count": null,
   "metadata": {},
   "outputs": [],
   "source": []
  }
 ],
 "metadata": {
  "kernelspec": {
   "display_name": "Python 3",
   "language": "python",
   "name": "python3"
  },
  "language_info": {
   "codemirror_mode": {
    "name": "ipython",
    "version": 3
   },
   "file_extension": ".py",
   "mimetype": "text/x-python",
   "name": "python",
   "nbconvert_exporter": "python",
   "pygments_lexer": "ipython3",
   "version": "3.6.9"
  }
 },
 "nbformat": 4,
 "nbformat_minor": 4
}
