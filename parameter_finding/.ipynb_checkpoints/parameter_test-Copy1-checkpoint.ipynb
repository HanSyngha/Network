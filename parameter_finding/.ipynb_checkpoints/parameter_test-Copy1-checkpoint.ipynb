{
 "cells": [
  {
   "cell_type": "code",
   "execution_count": 5,
   "metadata": {},
   "outputs": [],
   "source": [
    "from random import *\n",
    "import os\n",
    "from tqdm import tqdm\n",
    "os.environ[\"CUDA_DEVICE_ORDER\"] = \"PCI_BUS_ID\"\n",
    "os.environ['CUDA_VISIBLE_DEVICES'] = '2,3'\n",
    "os.environ[\"TF_CPP_MIN_LOG_LEVEL\"] = '3'\n",
    "import PIL\n",
    "import tensorflow as tf\n",
    "import numpy as np\n",
    "from keras import layers\n",
    "from keras.models import load_model\n",
    "from keras.preprocessing.image import ImageDataGenerator\n",
    "from keras.applications import VGG16\n",
    "from keras.optimizers import SGD\n",
    "from keras import Sequential\n",
    "import warnings\n",
    "import math\n",
    "import sys\n",
    "import gc"
   ]
  },
  {
   "cell_type": "code",
   "execution_count": 6,
   "metadata": {},
   "outputs": [],
   "source": [
    "tf.random.set_seed(960312)\n",
    "# pooling 5 status - 256 channels\n",
    "def packet_drop(arr):\n",
    "    index = randrange(256-8)\n",
    "    arr[:,:,index:(index+8)] = 0\n",
    "def error_injection(data):\n",
    "    for img in tqdm(data):\n",
    "        packet_drop(img)"
   ]
  },
  {
   "cell_type": "code",
   "execution_count": 7,
   "metadata": {},
   "outputs": [],
   "source": [
    "path = \"/media/2/Network/extracted_feature/whole_shuffle_to_19/with_error_whole/\""
   ]
  },
  {
   "cell_type": "code",
   "execution_count": 8,
   "metadata": {},
   "outputs": [
    {
     "data": {
      "text/plain": [
       "((1279036, 7, 7, 512), (1279036, 1000))"
      ]
     },
     "execution_count": 8,
     "metadata": {},
     "output_type": "execute_result"
    }
   ],
   "source": [
    "train_data = np.load(path+\"whole_feature.npy\",mmap_mode=\"r\")\n",
    "train_label = np.load(path+\"whole_label.npy\",mmap_mode=\"r\")\n",
    "train_data.shape, train_label.shape"
   ]
  },
  {
   "cell_type": "code",
   "execution_count": 9,
   "metadata": {},
   "outputs": [
    {
     "data": {
      "text/plain": [
       "((50000, 7, 7, 512), (50000, 1000))"
      ]
     },
     "execution_count": 9,
     "metadata": {},
     "output_type": "execute_result"
    }
   ],
   "source": [
    "test_data = np.load(path+\"testing_features.npy\",mmap_mode=\"r\")\n",
    "test_label = np.load(path+\"testing_label.npy\",mmap_mode=\"r\")\n",
    "test_data.shape, test_label.shape"
   ]
  },
  {
   "cell_type": "code",
   "execution_count": 10,
   "metadata": {},
   "outputs": [
    {
     "data": {
      "text/plain": [
       "'\\noriginal_path = \"/media/2/Network/extracted_feature/whole_shuffle_to_19/\"\\ntest_data_original = np.load(original_path+\"testing_features.npy\",mmap_mode=\"r\")\\ntest_label_original = np.load(original_path+\"testing_label.npy\",mmap_mode=\"r\")\\n'"
      ]
     },
     "execution_count": 10,
     "metadata": {},
     "output_type": "execute_result"
    }
   ],
   "source": [
    "\"\"\"\n",
    "original_path = \"/media/2/Network/extracted_feature/whole_shuffle_to_19/\"\n",
    "test_data_original = np.load(original_path+\"testing_features.npy\",mmap_mode=\"r\")\n",
    "test_label_original = np.load(original_path+\"testing_label.npy\",mmap_mode=\"r\")\n",
    "\"\"\"\n",
    "#result = back_layer.evaluate(test_data_original,test_label_original)\n",
    " "
   ]
  },
  {
   "cell_type": "code",
   "execution_count": null,
   "metadata": {},
   "outputs": [],
   "source": []
  },
  {
   "cell_type": "code",
   "execution_count": 12,
   "metadata": {
    "scrolled": true
   },
   "outputs": [
    {
     "name": "stdout",
     "output_type": "stream",
     "text": [
      "0.1 starting\n",
      "WARNING:tensorflow:No training configuration found in the save file, so the model was *not* compiled. Compile it manually.\n",
      "Model: \"sequential_4\"\n",
      "_________________________________________________________________\n",
      "Layer (type)                 Output Shape              Param #   \n",
      "=================================================================\n",
      "flatten (Flatten)            (None, 25088)             0         \n",
      "_________________________________________________________________\n",
      "fc1 (Dense)                  (None, 4096)              102764544 \n",
      "_________________________________________________________________\n",
      "fc2 (Dense)                  (None, 4096)              16781312  \n",
      "_________________________________________________________________\n",
      "predictions (Dense)          (None, 1000)              4097000   \n",
      "=================================================================\n",
      "Total params: 123,642,856\n",
      "Trainable params: 123,642,856\n",
      "Non-trainable params: 0\n",
      "_________________________________________________________________\n",
      "Epoch 1/10\n",
      "15988/15988 [==============================] - 244s 15ms/step - loss: 0.2189 - acc: 0.9507 - val_loss: 0.1521 - val_acc: 0.9653\n",
      "Epoch 2/10\n",
      "15988/15988 [==============================] - 247s 15ms/step - loss: 0.0233 - acc: 0.9932 - val_loss: 0.1513 - val_acc: 0.9685\n",
      "Epoch 3/10\n",
      "15988/15988 [==============================] - 247s 15ms/step - loss: 0.0107 - acc: 0.9964 - val_loss: 0.1621 - val_acc: 0.9687\n",
      "Epoch 4/10\n",
      "15988/15988 [==============================] - 245s 15ms/step - loss: 0.0084 - acc: 0.9967 - val_loss: 0.1686 - val_acc: 0.9689\n",
      "Epoch 5/10\n",
      "15988/15988 [==============================] - 244s 15ms/step - loss: 0.0072 - acc: 0.9969 - val_loss: 0.1741 - val_acc: 0.9688\n",
      "Epoch 6/10\n",
      "15988/15988 [==============================] - 244s 15ms/step - loss: 0.0064 - acc: 0.9971 - val_loss: 0.1783 - val_acc: 0.9690\n",
      "Epoch 7/10\n",
      "15988/15988 [==============================] - 240s 15ms/step - loss: 0.0059 - acc: 0.9972 - val_loss: 0.1815 - val_acc: 0.9690\n",
      "Epoch 8/10\n",
      "15988/15988 [==============================] - 237s 15ms/step - loss: 0.0054 - acc: 0.9974 - val_loss: 0.1842 - val_acc: 0.9688\n",
      "Epoch 9/10\n",
      "15988/15988 [==============================] - 232s 15ms/step - loss: 0.0051 - acc: 0.9975 - val_loss: 0.1868 - val_acc: 0.9690\n",
      "Epoch 10/10\n",
      "15988/15988 [==============================] - 241s 15ms/step - loss: 0.0047 - acc: 0.9976 - val_loss: 0.1889 - val_acc: 0.9690\n",
      "1563/1563 [==============================] - 9s 6ms/step - loss: 2.6416 - acc: 0.6596\n"
     ]
    },
    {
     "ename": "NameError",
     "evalue": "name 'i' is not defined",
     "output_type": "error",
     "traceback": [
      "\u001b[0;31m---------------------------------------------------------------------------\u001b[0m",
      "\u001b[0;31mNameError\u001b[0m                                 Traceback (most recent call last)",
      "\u001b[0;32m<ipython-input-12-9bad4a9be5e4>\u001b[0m in \u001b[0;36m<module>\u001b[0;34m\u001b[0m\n\u001b[1;32m     19\u001b[0m     \u001b[0;31m############ evaluate ####################\u001b[0m\u001b[0;34m\u001b[0m\u001b[0;34m\u001b[0m\u001b[0;34m\u001b[0m\u001b[0m\n\u001b[1;32m     20\u001b[0m     \u001b[0mresult\u001b[0m \u001b[0;34m=\u001b[0m \u001b[0mback_layer\u001b[0m\u001b[0;34m.\u001b[0m\u001b[0mevaluate\u001b[0m\u001b[0;34m(\u001b[0m\u001b[0mtest_data\u001b[0m\u001b[0;34m,\u001b[0m\u001b[0mtest_label\u001b[0m\u001b[0;34m)\u001b[0m\u001b[0;34m\u001b[0m\u001b[0;34m\u001b[0m\u001b[0m\n\u001b[0;32m---> 21\u001b[0;31m     \u001b[0mprint\u001b[0m\u001b[0;34m(\u001b[0m\u001b[0;34m\"momentum :{} == {} th model Acc : {:.4}%, loss: {:.4}\"\u001b[0m\u001b[0;34m.\u001b[0m\u001b[0mformat\u001b[0m\u001b[0;34m(\u001b[0m\u001b[0mmomentum_var\u001b[0m\u001b[0;34m,\u001b[0m\u001b[0mi\u001b[0m\u001b[0;34m,\u001b[0m\u001b[0mresult\u001b[0m\u001b[0;34m[\u001b[0m\u001b[0;36m1\u001b[0m\u001b[0;34m]\u001b[0m\u001b[0;34m*\u001b[0m\u001b[0;36m100\u001b[0m\u001b[0;34m,\u001b[0m\u001b[0mresult\u001b[0m\u001b[0;34m[\u001b[0m\u001b[0;36m0\u001b[0m\u001b[0;34m]\u001b[0m\u001b[0;34m)\u001b[0m \u001b[0;34m)\u001b[0m\u001b[0;34m\u001b[0m\u001b[0;34m\u001b[0m\u001b[0m\n\u001b[0m\u001b[1;32m     22\u001b[0m \u001b[0;34m\u001b[0m\u001b[0m\n\u001b[1;32m     23\u001b[0m     \"\"\"\n",
      "\u001b[0;31mNameError\u001b[0m: name 'i' is not defined"
     ]
    }
   ],
   "source": [
    "#momentums = [0,0.1,0.2,0.3,0.4,0.5,0.6,0.7,0.8,0.9,1.0]\n",
    "#momentums = [0.1,0.4,0.9]]\n",
    "momentums = [0.1,0.4,0.9]\n",
    "def top_5(y_true,y_pred):\n",
    "    return tf.keras.metrics.top_k_categorical_accuracy(y_true,y_pred,k=5)\n",
    "warnings.simplefilter(action='ignore', category=FutureWarning)\n",
    "for momentum_var in momentums :\n",
    "    print(momentum_var,\"starting\")\n",
    "    SGD_optimizer = SGD(lr=0.005, decay=1e-6, momentum=momentum_var, nesterov=True)\n",
    "    back_layer = load_model(\"/media/2/Network/pretrained_model/back_layers_19~.h5\")\n",
    "    multi_gpu= tf.distribute.MirroredStrategy()\n",
    "    with multi_gpu.scope():\n",
    "        back_layer.compile(optimizer=SGD_optimizer, loss='categorical_crossentropy',\n",
    "                       metrics=\"acc\")#[top_5])\n",
    "    back_layer.summary()\n",
    "    # validation split이 0.2니까 training feature의 20%를 validation using\n",
    "        \n",
    "    hist = back_layer.fit(train_data,train_label, epochs=10, verbose=1,\n",
    "                             use_multiprocessing=True, validation_split=0.2,\n",
    "                             batch_size=256,shuffle=True)\n",
    "    ############ evaluate ####################\n",
    "    result = back_layer.evaluate(test_data,test_label)\n",
    "    print(\"momentum :{} == {} th model Acc : {:.4}%, loss: {:.4}\".format(momentum_var,i,result[1]*100,result[0]) )\n",
    "    \n",
    "    \"\"\"\n",
    "        f = open(\"./result_tmp\",mode=\"a\")\n",
    "        print(\"momentum :{} == {} th model Acc : {:.4}%, loss: {:.4}\".format(momentum_var,i,result[1]*100,result[0]),file=f )\n",
    "        print(\"momentum :{} == {} th model Acc : {:.4}%, loss: {:.4}\".format(momentum_var,i,result[1]*100,result[0]) )\n",
    "        f.close()\n",
    "        if i !=0 and ( i%10==0 or i==9 ):\n",
    "            back_layer.save(\"/media/3/Network/retrain_model_dir/pooling5/momentums/\"+str(i)+\"momentum_\"+str(momentum_var)+\"_back_layer_.h5\")\n",
    "        #del test_data, test_label\n",
    "        gc.collect()\n",
    "    \"\"\"\n",
    "    gc.collect()\n",
    "    "
   ]
  },
  {
   "cell_type": "code",
   "execution_count": null,
   "metadata": {},
   "outputs": [],
   "source": [
    "print(momentum_var,\"starting\")\n",
    "SGD_optimizer = SGD(lr=0.005, decay=1e-6, momentum=0.4, nesterov=True)\n",
    "back_layer = load_model(\"/media/2/Network/pretrained_model/back_layers_19~.h5\")\n",
    "multi_gpu= tf.distribute.MirroredStrategy()\n",
    "with multi_gpu.scope():\n",
    "    back_layer.compile(optimizer=SGD_optimizer, loss='categorical_crossentropy',\n",
    "                       metrics=\"acc\")#[top_5])\n",
    "back_layer.summary()\n",
    "    # validation split이 0.2니까 training feature의 20%를 validation using\n",
    "        \n",
    "hist = back_layer.fit(train_data,train_label, epochs=10, verbose=1,\n",
    "                             use_multiprocessing=True, validation_split=0.2,\n",
    "                             batch_size=256,shuffle=True)\n",
    "    ############ evaluate ####################\n",
    "result = back_layer.evaluate(test_data,test_label)\n",
    "print(\"momentum :{} == {} th model Acc : {:.4}%, loss: {:.4}\".format(momentum_var,i,result[1]*100,result[0]) )\n",
    "    \n",
    "    \"\"\"\n",
    "        f = open(\"./result_tmp\",mode=\"a\")\n",
    "        print(\"momentum :{} == {} th model Acc : {:.4}%, loss: {:.4}\".format(momentum_var,i,result[1]*100,result[0]),file=f )\n",
    "        print(\"momentum :{} == {} th model Acc : {:.4}%, loss: {:.4}\".format(momentum_var,i,result[1]*100,result[0]) )\n",
    "        f.close()\n",
    "        if i !=0 and ( i%10==0 or i==9 ):\n",
    "            back_layer.save(\"/media/3/Network/retrain_model_dir/pooling5/momentums/\"+str(i)+\"momentum_\"+str(momentum_var)+\"_back_layer_.h5\")\n",
    "        #del test_data, test_label\n",
    "        gc.collect()\n",
    "    \"\"\"\n",
    "gc.collect()"
   ]
  },
  {
   "cell_type": "code",
   "execution_count": 13,
   "metadata": {},
   "outputs": [
    {
     "ename": "NameError",
     "evalue": "name 'hist' is not defined",
     "output_type": "error",
     "traceback": [
      "\u001b[0;31m---------------------------------------------------------------------------\u001b[0m",
      "\u001b[0;31mNameError\u001b[0m                                 Traceback (most recent call last)",
      "\u001b[0;32m<ipython-input-13-09d47c290f9c>\u001b[0m in \u001b[0;36m<module>\u001b[0;34m\u001b[0m\n\u001b[1;32m      4\u001b[0m \u001b[0macc_ax\u001b[0m \u001b[0;34m=\u001b[0m \u001b[0mloss_ax\u001b[0m\u001b[0;34m.\u001b[0m\u001b[0mtwinx\u001b[0m\u001b[0;34m(\u001b[0m\u001b[0;34m)\u001b[0m\u001b[0;34m\u001b[0m\u001b[0;34m\u001b[0m\u001b[0m\n\u001b[1;32m      5\u001b[0m \u001b[0;34m\u001b[0m\u001b[0m\n\u001b[0;32m----> 6\u001b[0;31m \u001b[0mloss_ax\u001b[0m\u001b[0;34m.\u001b[0m\u001b[0mplot\u001b[0m\u001b[0;34m(\u001b[0m\u001b[0mhist\u001b[0m\u001b[0;34m.\u001b[0m\u001b[0mhistory\u001b[0m\u001b[0;34m[\u001b[0m\u001b[0;34m'loss'\u001b[0m\u001b[0;34m]\u001b[0m\u001b[0;34m,\u001b[0m \u001b[0;34m'y'\u001b[0m\u001b[0;34m,\u001b[0m \u001b[0mlabel\u001b[0m\u001b[0;34m=\u001b[0m\u001b[0;34m'train loss'\u001b[0m\u001b[0;34m)\u001b[0m\u001b[0;34m\u001b[0m\u001b[0;34m\u001b[0m\u001b[0m\n\u001b[0m\u001b[1;32m      7\u001b[0m \u001b[0mloss_ax\u001b[0m\u001b[0;34m.\u001b[0m\u001b[0mplot\u001b[0m\u001b[0;34m(\u001b[0m\u001b[0mhist\u001b[0m\u001b[0;34m.\u001b[0m\u001b[0mhistory\u001b[0m\u001b[0;34m[\u001b[0m\u001b[0;34m'val_loss'\u001b[0m\u001b[0;34m]\u001b[0m\u001b[0;34m,\u001b[0m \u001b[0;34m'r'\u001b[0m\u001b[0;34m,\u001b[0m \u001b[0mlabel\u001b[0m\u001b[0;34m=\u001b[0m\u001b[0;34m'val loss'\u001b[0m\u001b[0;34m)\u001b[0m\u001b[0;34m\u001b[0m\u001b[0;34m\u001b[0m\u001b[0m\n\u001b[1;32m      8\u001b[0m \u001b[0mloss_ax\u001b[0m\u001b[0;34m.\u001b[0m\u001b[0mset_xlabel\u001b[0m\u001b[0;34m(\u001b[0m\u001b[0;34m'epoch'\u001b[0m\u001b[0;34m)\u001b[0m\u001b[0;34m\u001b[0m\u001b[0;34m\u001b[0m\u001b[0m\n",
      "\u001b[0;31mNameError\u001b[0m: name 'hist' is not defined"
     ]
    },
    {
     "data": {
      "image/png": "[encoded data removed]",
      "text/plain": [
       "<Figure size 432x288 with 2 Axes>"
      ]
     },
     "metadata": {
      "needs_background": "light"
     },
     "output_type": "display_data"
    }
   ],
   "source": [
    "import matplotlib.pyplot as plt\n",
    "\n",
    "fig, loss_ax = plt.subplots()\n",
    "acc_ax = loss_ax.twinx()\n",
    "\n",
    "loss_ax.plot(hist.history['loss'], 'y', label='train loss')\n",
    "loss_ax.plot(hist.history['val_loss'], 'r', label='val loss')\n",
    "loss_ax.set_xlabel('epoch')\n",
    "loss_ax.set_ylabel('loss')\n",
    "loss_ax.legend(loc='upper left')\n",
    "\n",
    "acc_ax.plot(hist.history['acc'], 'b', label='train acc')\n",
    "acc_ax.plot(hist.history['val_acc'], 'g', label='val acc')\n",
    "acc_ax.set_ylabel('accuracy')\n",
    "acc_ax.legend(loc='upper left')\n",
    "\n",
    "plt.show()"
   ]
  },
  {
   "cell_type": "code",
   "execution_count": 14,
   "metadata": {
    "scrolled": true
   },
   "outputs": [
    {
     "name": "stdout",
     "output_type": "stream",
     "text": [
      "0 starting\n",
      "WARNING:tensorflow:No training configuration found in the save file, so the model was *not* compiled. Compile it manually.\n"
     ]
    },
    {
     "name": "stderr",
     "output_type": "stream",
     "text": [
      "  0%|          | 0/10 [00:00<?, ?it/s]"
     ]
    },
    {
     "name": "stdout",
     "output_type": "stream",
     "text": [
      "Model: \"sequential_4\"\n",
      "_________________________________________________________________\n",
      "Layer (type)                 Output Shape              Param #   \n",
      "=================================================================\n",
      "flatten (Flatten)            (None, 25088)             0         \n",
      "_________________________________________________________________\n",
      "fc1 (Dense)                  (None, 4096)              102764544 \n",
      "_________________________________________________________________\n",
      "fc2 (Dense)                  (None, 4096)              16781312  \n",
      "_________________________________________________________________\n",
      "predictions (Dense)          (None, 1000)              4097000   \n",
      "=================================================================\n",
      "Total params: 123,642,856\n",
      "Trainable params: 123,642,856\n",
      "Non-trainable params: 0\n",
      "_________________________________________________________________\n",
      "0 =============== 1 ===============\n",
      "4987/4987 [==============================] - 72s 14ms/step - loss: 0.3012 - accuracy: 0.9399 - val_loss: 0.2682 - val_accuracy: 0.9410\n",
      "0 =============== 2 ===============\n",
      "4987/4987 [==============================] - 71s 14ms/step - loss: 0.2505 - accuracy: 0.9434 - val_loss: 0.2562 - val_accuracy: 0.9422\n",
      "0 =============== 3 ===============\n",
      "6015/6015 [==============================] - 87s 14ms/step - loss: 0.2335 - accuracy: 0.9460 - val_loss: 0.2370 - val_accuracy: 0.9454\n",
      "1563/1563 [==============================] - 9s 6ms/step - loss: 1.7094 - accuracy: 0.6546\n"
     ]
    },
    {
     "name": "stderr",
     "output_type": "stream",
     "text": [
      " 10%|█         | 1/10 [05:28<49:17, 328.65s/it]"
     ]
    },
    {
     "name": "stdout",
     "output_type": "stream",
     "text": [
      "1 =============== 1 ===============\n",
      "4987/4987 [==============================] - 71s 14ms/step - loss: 0.1696 - accuracy: 0.9589 - val_loss: 0.2271 - val_accuracy: 0.9475\n",
      "1 =============== 2 ===============\n",
      "4987/4987 [==============================] - 78s 16ms/step - loss: 0.1656 - accuracy: 0.9599 - val_loss: 0.2260 - val_accuracy: 0.9475\n",
      "1 =============== 3 ===============\n",
      "6015/6015 [==============================] - 86s 14ms/step - loss: 0.1622 - accuracy: 0.9608 - val_loss: 0.2168 - val_accuracy: 0.9498\n",
      "1563/1563 [==============================] - 9s 6ms/step - loss: 1.7498 - accuracy: 0.6554\n"
     ]
    },
    {
     "name": "stderr",
     "output_type": "stream",
     "text": [
      " 20%|██        | 2/10 [10:51<43:36, 327.04s/it]"
     ]
    },
    {
     "name": "stdout",
     "output_type": "stream",
     "text": [
      "2 =============== 1 ===============\n",
      "4987/4987 [==============================] - 70s 14ms/step - loss: 0.1178 - accuracy: 0.9714 - val_loss: 0.2072 - val_accuracy: 0.9516\n",
      "2 =============== 2 ===============\n",
      "4987/4987 [==============================] - 78s 16ms/step - loss: 0.1172 - accuracy: 0.9716 - val_loss: 0.2083 - val_accuracy: 0.9518\n",
      "2 =============== 3 ===============\n",
      "6015/6015 [==============================] - 89s 15ms/step - loss: 0.1175 - accuracy: 0.9714 - val_loss: 0.2041 - val_accuracy: 0.9530\n",
      "1563/1563 [==============================] - 9s 6ms/step - loss: 1.7952 - accuracy: 0.6560\n"
     ]
    },
    {
     "name": "stderr",
     "output_type": "stream",
     "text": [
      " 30%|███       | 3/10 [16:17<38:06, 326.60s/it]"
     ]
    },
    {
     "name": "stdout",
     "output_type": "stream",
     "text": [
      "3 =============== 1 ===============\n",
      "4987/4987 [==============================] - 71s 14ms/step - loss: 0.0856 - accuracy: 0.9796 - val_loss: 0.1942 - val_accuracy: 0.9551\n",
      "3 =============== 2 ===============\n",
      "4987/4987 [==============================] - 78s 16ms/step - loss: 0.0858 - accuracy: 0.9793 - val_loss: 0.1966 - val_accuracy: 0.9551\n",
      "3 =============== 3 ===============\n",
      "6015/6015 [==============================] - 92s 15ms/step - loss: 0.0876 - accuracy: 0.9788 - val_loss: 0.1959 - val_accuracy: 0.9555\n",
      "1563/1563 [==============================] - 9s 6ms/step - loss: 1.8413 - accuracy: 0.6561\n"
     ]
    },
    {
     "name": "stderr",
     "output_type": "stream",
     "text": [
      " 40%|████      | 4/10 [21:46<32:44, 327.34s/it]"
     ]
    },
    {
     "name": "stdout",
     "output_type": "stream",
     "text": [
      "4 =============== 1 ===============\n",
      "4987/4987 [==============================] - 74s 15ms/step - loss: 0.0644 - accuracy: 0.9849 - val_loss: 0.1855 - val_accuracy: 0.9577\n",
      "4 =============== 2 ===============\n",
      "4987/4987 [==============================] - 79s 16ms/step - loss: 0.0648 - accuracy: 0.9848 - val_loss: 0.1887 - val_accuracy: 0.9572\n",
      "4 =============== 3 ===============\n",
      "6015/6015 [==============================] - 87s 14ms/step - loss: 0.0668 - accuracy: 0.9839 - val_loss: 0.1906 - val_accuracy: 0.9573\n",
      "1563/1563 [==============================] - 9s 6ms/step - loss: 1.8871 - accuracy: 0.6563\n"
     ]
    },
    {
     "name": "stderr",
     "output_type": "stream",
     "text": [
      " 50%|█████     | 5/10 [27:14<27:18, 327.64s/it]"
     ]
    },
    {
     "name": "stdout",
     "output_type": "stream",
     "text": [
      "5 =============== 1 ===============\n",
      "4987/4987 [==============================] - 71s 14ms/step - loss: 0.0499 - accuracy: 0.9885 - val_loss: 0.1798 - val_accuracy: 0.9596\n",
      "5 =============== 2 ===============\n",
      "4987/4987 [==============================] - 78s 16ms/step - loss: 0.0502 - accuracy: 0.9884 - val_loss: 0.1835 - val_accuracy: 0.9589\n",
      "5 =============== 3 ===============\n",
      "6015/6015 [==============================] - 90s 15ms/step - loss: 0.0521 - accuracy: 0.9875 - val_loss: 0.1874 - val_accuracy: 0.9586\n",
      "1563/1563 [==============================] - 9s 6ms/step - loss: 1.9322 - accuracy: 0.6567\n"
     ]
    },
    {
     "name": "stderr",
     "output_type": "stream",
     "text": [
      " 60%|██████    | 6/10 [32:42<21:50, 327.70s/it]"
     ]
    },
    {
     "name": "stdout",
     "output_type": "stream",
     "text": [
      "6 =============== 1 ===============\n",
      "4987/4987 [==============================] - 73s 15ms/step - loss: 0.0397 - accuracy: 0.9910 - val_loss: 0.1761 - val_accuracy: 0.9612\n",
      "6 =============== 2 ===============\n",
      "4987/4987 [==============================] - 74s 15ms/step - loss: 0.0399 - accuracy: 0.9910 - val_loss: 0.1801 - val_accuracy: 0.9603\n",
      "6 =============== 3 ===============\n",
      "6015/6015 [==============================] - 86s 14ms/step - loss: 0.0415 - accuracy: 0.9902 - val_loss: 0.1858 - val_accuracy: 0.9597\n",
      "1563/1563 [==============================] - 9s 6ms/step - loss: 1.9762 - accuracy: 0.6569\n"
     ]
    },
    {
     "name": "stderr",
     "output_type": "stream",
     "text": [
      " 70%|███████   | 7/10 [38:02<16:16, 325.44s/it]"
     ]
    },
    {
     "name": "stdout",
     "output_type": "stream",
     "text": [
      "7 =============== 1 ===============\n",
      "4987/4987 [==============================] - 71s 14ms/step - loss: 0.0323 - accuracy: 0.9927 - val_loss: 0.1739 - val_accuracy: 0.9622\n",
      "7 =============== 2 ===============\n",
      "4987/4987 [==============================] - 73s 15ms/step - loss: 0.0324 - accuracy: 0.9928 - val_loss: 0.1781 - val_accuracy: 0.9614\n",
      "7 =============== 3 ===============\n",
      "6015/6015 [==============================] - 92s 15ms/step - loss: 0.0337 - accuracy: 0.9921 - val_loss: 0.1852 - val_accuracy: 0.9605\n",
      "1563/1563 [==============================] - 9s 6ms/step - loss: 2.0189 - accuracy: 0.6570\n"
     ]
    },
    {
     "name": "stderr",
     "output_type": "stream",
     "text": [
      " 80%|████████  | 8/10 [43:27<10:50, 325.19s/it]"
     ]
    },
    {
     "name": "stdout",
     "output_type": "stream",
     "text": [
      "8 =============== 1 ===============\n",
      "4987/4987 [==============================] - 71s 14ms/step - loss: 0.0269 - accuracy: 0.9941 - val_loss: 0.1729 - val_accuracy: 0.9631\n",
      "8 =============== 2 ===============\n",
      "4987/4987 [==============================] - 74s 15ms/step - loss: 0.0269 - accuracy: 0.9941 - val_loss: 0.1770 - val_accuracy: 0.9624\n",
      "8 =============== 3 ===============\n",
      "6015/6015 [==============================] - 92s 15ms/step - loss: 0.0279 - accuracy: 0.9935 - val_loss: 0.1854 - val_accuracy: 0.9611\n",
      "1563/1563 [==============================] - 9s 6ms/step - loss: 2.0602 - accuracy: 0.6573\n"
     ]
    },
    {
     "name": "stderr",
     "output_type": "stream",
     "text": [
      " 90%|█████████ | 9/10 [48:52<05:25, 325.17s/it]"
     ]
    },
    {
     "name": "stdout",
     "output_type": "stream",
     "text": [
      "9 =============== 1 ===============\n",
      "4987/4987 [==============================] - 73s 15ms/step - loss: 0.0228 - accuracy: 0.9950 - val_loss: 0.1726 - val_accuracy: 0.9637\n",
      "9 =============== 2 ===============\n",
      "4987/4987 [==============================] - 74s 15ms/step - loss: 0.0228 - accuracy: 0.9949 - val_loss: 0.1766 - val_accuracy: 0.9630\n",
      "9 =============== 3 ===============\n",
      "6015/6015 [==============================] - 86s 14ms/step - loss: 0.0236 - accuracy: 0.9945 - val_loss: 0.1861 - val_accuracy: 0.9616\n",
      "1563/1563 [==============================] - 9s 6ms/step - loss: 2.0993 - accuracy: 0.6576\n"
     ]
    },
    {
     "name": "stderr",
     "output_type": "stream",
     "text": [
      "100%|██████████| 10/10 [54:13<00:00, 325.36s/it]\n"
     ]
    },
    {
     "name": "stdout",
     "output_type": "stream",
     "text": [
      "0.1 starting\n",
      "WARNING:tensorflow:No training configuration found in the save file, so the model was *not* compiled. Compile it manually.\n"
     ]
    },
    {
     "name": "stderr",
     "output_type": "stream",
     "text": [
      "  0%|          | 0/10 [00:00<?, ?it/s]"
     ]
    },
    {
     "name": "stdout",
     "output_type": "stream",
     "text": [
      "Model: \"sequential_4\"\n",
      "_________________________________________________________________\n",
      "Layer (type)                 Output Shape              Param #   \n",
      "=================================================================\n",
      "flatten (Flatten)            (None, 25088)             0         \n",
      "_________________________________________________________________\n",
      "fc1 (Dense)                  (None, 4096)              102764544 \n",
      "_________________________________________________________________\n",
      "fc2 (Dense)                  (None, 4096)              16781312  \n",
      "_________________________________________________________________\n",
      "predictions (Dense)          (None, 1000)              4097000   \n",
      "=================================================================\n",
      "Total params: 123,642,856\n",
      "Trainable params: 123,642,856\n",
      "Non-trainable params: 0\n",
      "_________________________________________________________________\n",
      "0 =============== 1 ===============\n",
      "4987/4987 [==============================] - 83s 17ms/step - loss: 0.2985 - accuracy: 0.9399 - val_loss: 0.2668 - val_accuracy: 0.9411\n",
      "0 =============== 2 ===============\n",
      "4987/4987 [==============================] - 83s 17ms/step - loss: 0.2481 - accuracy: 0.9438 - val_loss: 0.2538 - val_accuracy: 0.9426\n",
      "0 =============== 3 ===============\n",
      "6015/6015 [==============================] - 106s 18ms/step - loss: 0.2303 - accuracy: 0.9466 - val_loss: 0.2339 - val_accuracy: 0.9459\n",
      "1563/1563 [==============================] - 10s 6ms/step - loss: 1.7064 - accuracy: 0.6549\n"
     ]
    },
    {
     "name": "stderr",
     "output_type": "stream",
     "text": [
      " 10%|█         | 1/10 [06:11<55:47, 371.99s/it]"
     ]
    },
    {
     "name": "stdout",
     "output_type": "stream",
     "text": [
      "1 =============== 1 ===============\n",
      "4987/4987 [==============================] - 83s 17ms/step - loss: 0.1624 - accuracy: 0.9605 - val_loss: 0.2240 - val_accuracy: 0.9479\n",
      "1 =============== 2 ===============\n",
      "4987/4987 [==============================] - 86s 17ms/step - loss: 0.1585 - accuracy: 0.9616 - val_loss: 0.2224 - val_accuracy: 0.9483\n",
      "1 =============== 3 ===============\n",
      "6015/6015 [==============================] - 102s 17ms/step - loss: 0.1549 - accuracy: 0.9625 - val_loss: 0.2130 - val_accuracy: 0.9506\n",
      "1563/1563 [==============================] - 9s 6ms/step - loss: 1.7530 - accuracy: 0.6553\n"
     ]
    },
    {
     "name": "stderr",
     "output_type": "stream",
     "text": [
      " 20%|██        | 2/10 [12:09<49:01, 367.65s/it]"
     ]
    },
    {
     "name": "stdout",
     "output_type": "stream",
     "text": [
      "2 =============== 1 ===============\n",
      "4987/4987 [==============================] - 85s 17ms/step - loss: 0.1092 - accuracy: 0.9736 - val_loss: 0.2035 - val_accuracy: 0.9524\n",
      "2 =============== 2 ===============\n",
      "4987/4987 [==============================] - 85s 17ms/step - loss: 0.1088 - accuracy: 0.9736 - val_loss: 0.2043 - val_accuracy: 0.9529\n",
      "2 =============== 3 ===============\n",
      "6015/6015 [==============================] - 100s 17ms/step - loss: 0.1092 - accuracy: 0.9736 - val_loss: 0.2005 - val_accuracy: 0.9540\n",
      "1563/1563 [==============================] - 9s 6ms/step - loss: 1.8043 - accuracy: 0.6559\n"
     ]
    },
    {
     "name": "stderr",
     "output_type": "stream",
     "text": [
      " 30%|███       | 3/10 [18:06<42:31, 364.51s/it]"
     ]
    },
    {
     "name": "stdout",
     "output_type": "stream",
     "text": [
      "3 =============== 1 ===============\n",
      "4987/4987 [==============================] - 83s 17ms/step - loss: 0.0774 - accuracy: 0.9815 - val_loss: 0.1906 - val_accuracy: 0.9560\n",
      "3 =============== 2 ===============\n",
      "4987/4987 [==============================] - 86s 17ms/step - loss: 0.0777 - accuracy: 0.9814 - val_loss: 0.1928 - val_accuracy: 0.9560\n",
      "3 =============== 3 ===============\n",
      "6015/6015 [==============================] - 106s 18ms/step - loss: 0.0794 - accuracy: 0.9807 - val_loss: 0.1927 - val_accuracy: 0.9563\n",
      "1563/1563 [==============================] - 9s 6ms/step - loss: 1.8557 - accuracy: 0.6562\n"
     ]
    },
    {
     "name": "stderr",
     "output_type": "stream",
     "text": [
      " 40%|████      | 4/10 [24:09<36:24, 364.11s/it]"
     ]
    },
    {
     "name": "stdout",
     "output_type": "stream",
     "text": [
      "4 =============== 1 ===============\n",
      "4987/4987 [==============================] - 83s 17ms/step - loss: 0.0571 - accuracy: 0.9867 - val_loss: 0.1823 - val_accuracy: 0.9586\n",
      "4 =============== 2 ===============\n",
      "4987/4987 [==============================] - 86s 17ms/step - loss: 0.0575 - accuracy: 0.9865 - val_loss: 0.1854 - val_accuracy: 0.9582\n",
      "4 =============== 3 ===============\n",
      "6015/6015 [==============================] - 106s 18ms/step - loss: 0.0593 - accuracy: 0.9857 - val_loss: 0.1880 - val_accuracy: 0.9582\n",
      "1563/1563 [==============================] - 9s 6ms/step - loss: 1.9065 - accuracy: 0.6566\n"
     ]
    },
    {
     "name": "stderr",
     "output_type": "stream",
     "text": [
      " 50%|█████     | 5/10 [30:13<30:19, 363.86s/it]"
     ]
    },
    {
     "name": "stdout",
     "output_type": "stream",
     "text": [
      "5 =============== 1 ===============\n",
      "4987/4987 [==============================] - 85s 17ms/step - loss: 0.0436 - accuracy: 0.9901 - val_loss: 0.1772 - val_accuracy: 0.9607\n",
      "5 =============== 2 ===============\n",
      "4987/4987 [==============================] - 90s 18ms/step - loss: 0.0439 - accuracy: 0.9900 - val_loss: 0.1808 - val_accuracy: 0.9601\n",
      "5 =============== 3 ===============\n",
      "6015/6015 [==============================] - 103s 17ms/step - loss: 0.0455 - accuracy: 0.9891 - val_loss: 0.1856 - val_accuracy: 0.9594\n",
      "1563/1563 [==============================] - 9s 6ms/step - loss: 1.9561 - accuracy: 0.6568\n"
     ]
    },
    {
     "name": "stderr",
     "output_type": "stream",
     "text": [
      " 60%|██████    | 6/10 [36:19<24:18, 364.65s/it]"
     ]
    },
    {
     "name": "stdout",
     "output_type": "stream",
     "text": [
      "6 =============== 1 ===============\n",
      "4987/4987 [==============================] - 83s 17ms/step - loss: 0.0343 - accuracy: 0.9923 - val_loss: 0.1742 - val_accuracy: 0.9620\n",
      "6 =============== 2 ===============\n",
      "4987/4987 [==============================] - 89s 18ms/step - loss: 0.0344 - accuracy: 0.9923 - val_loss: 0.1781 - val_accuracy: 0.9612\n",
      "6 =============== 3 ===============\n",
      "6015/6015 [==============================] - 106s 18ms/step - loss: 0.0358 - accuracy: 0.9916 - val_loss: 0.1847 - val_accuracy: 0.9604\n",
      "1563/1563 [==============================] - 9s 6ms/step - loss: 2.0045 - accuracy: 0.6572\n"
     ]
    },
    {
     "name": "stderr",
     "output_type": "stream",
     "text": [
      " 70%|███████   | 7/10 [42:25<18:15, 365.13s/it]"
     ]
    },
    {
     "name": "stdout",
     "output_type": "stream",
     "text": [
      "7 =============== 1 ===============\n",
      "4987/4987 [==============================] - 86s 17ms/step - loss: 0.0277 - accuracy: 0.9939 - val_loss: 0.1728 - val_accuracy: 0.9630\n",
      "7 =============== 2 ===============\n",
      "4987/4987 [==============================] - 86s 17ms/step - loss: 0.0278 - accuracy: 0.9938 - val_loss: 0.1767 - val_accuracy: 0.9624\n",
      "7 =============== 3 ===============\n",
      "6015/6015 [==============================] - 105s 17ms/step - loss: 0.0288 - accuracy: 0.9933 - val_loss: 0.1848 - val_accuracy: 0.9610\n",
      "1563/1563 [==============================] - 9s 6ms/step - loss: 2.0509 - accuracy: 0.6572\n"
     ]
    },
    {
     "name": "stderr",
     "output_type": "stream",
     "text": [
      " 80%|████████  | 8/10 [48:30<12:09, 364.96s/it]"
     ]
    },
    {
     "name": "stdout",
     "output_type": "stream",
     "text": [
      "8 =============== 1 ===============\n",
      "4987/4987 [==============================] - 84s 17ms/step - loss: 0.0230 - accuracy: 0.9949 - val_loss: 0.1723 - val_accuracy: 0.9637\n",
      "8 =============== 2 ===============\n",
      "4987/4987 [==============================] - 86s 17ms/step - loss: 0.0230 - accuracy: 0.9948 - val_loss: 0.1763 - val_accuracy: 0.9631\n",
      "8 =============== 3 ===============\n",
      "6015/6015 [==============================] - 102s 17ms/step - loss: 0.0238 - accuracy: 0.9944 - val_loss: 0.1855 - val_accuracy: 0.9617\n",
      "1563/1563 [==============================] - 9s 6ms/step - loss: 2.0951 - accuracy: 0.6577\n"
     ]
    },
    {
     "name": "stderr",
     "output_type": "stream",
     "text": [
      " 90%|█████████ | 9/10 [54:30<06:03, 363.48s/it]"
     ]
    },
    {
     "name": "stdout",
     "output_type": "stream",
     "text": [
      "9 =============== 1 ===============\n",
      "4987/4987 [==============================] - 84s 17ms/step - loss: 0.0195 - accuracy: 0.9956 - val_loss: 0.1726 - val_accuracy: 0.9641\n",
      "9 =============== 2 ===============\n",
      "4987/4987 [==============================] - 87s 17ms/step - loss: 0.0195 - accuracy: 0.9956 - val_loss: 0.1765 - val_accuracy: 0.9635\n",
      "9 =============== 3 ===============\n",
      "6015/6015 [==============================] - 106s 18ms/step - loss: 0.0202 - accuracy: 0.9953 - val_loss: 0.1867 - val_accuracy: 0.9618\n",
      "1563/1563 [==============================] - 9s 6ms/step - loss: 2.1367 - accuracy: 0.6576\n"
     ]
    },
    {
     "name": "stderr",
     "output_type": "stream",
     "text": [
      "100%|██████████| 10/10 [1:00:37<00:00, 363.79s/it]\n"
     ]
    },
    {
     "name": "stdout",
     "output_type": "stream",
     "text": [
      "0.2 starting\n",
      "WARNING:tensorflow:No training configuration found in the save file, so the model was *not* compiled. Compile it manually.\n"
     ]
    },
    {
     "name": "stderr",
     "output_type": "stream",
     "text": [
      "  0%|          | 0/10 [00:00<?, ?it/s]"
     ]
    },
    {
     "name": "stdout",
     "output_type": "stream",
     "text": [
      "Model: \"sequential_4\"\n",
      "_________________________________________________________________\n",
      "Layer (type)                 Output Shape              Param #   \n",
      "=================================================================\n",
      "flatten (Flatten)            (None, 25088)             0         \n",
      "_________________________________________________________________\n",
      "fc1 (Dense)                  (None, 4096)              102764544 \n",
      "_________________________________________________________________\n",
      "fc2 (Dense)                  (None, 4096)              16781312  \n",
      "_________________________________________________________________\n",
      "predictions (Dense)          (None, 1000)              4097000   \n",
      "=================================================================\n",
      "Total params: 123,642,856\n",
      "Trainable params: 123,642,856\n",
      "Non-trainable params: 0\n",
      "_________________________________________________________________\n",
      "0 =============== 1 ===============\n",
      "4987/4987 [==============================] - 84s 17ms/step - loss: 0.2956 - accuracy: 0.9399 - val_loss: 0.2653 - val_accuracy: 0.9411\n",
      "0 =============== 2 ===============\n",
      "4987/4987 [==============================] - 84s 17ms/step - loss: 0.2454 - accuracy: 0.9442 - val_loss: 0.2511 - val_accuracy: 0.9430\n",
      "0 =============== 3 ===============\n",
      "6015/6015 [==============================] - 110s 18ms/step - loss: 0.2267 - accuracy: 0.9474 - val_loss: 0.2303 - val_accuracy: 0.9464\n",
      "1563/1563 [==============================] - 9s 6ms/step - loss: 1.7034 - accuracy: 0.6552\n"
     ]
    },
    {
     "name": "stderr",
     "output_type": "stream",
     "text": [
      " 10%|█         | 1/10 [06:17<56:33, 377.03s/it]"
     ]
    },
    {
     "name": "stdout",
     "output_type": "stream",
     "text": [
      "1 =============== 1 ===============\n",
      "4987/4987 [==============================] - 84s 17ms/step - loss: 0.1540 - accuracy: 0.9624 - val_loss: 0.2205 - val_accuracy: 0.9487\n",
      "1 =============== 2 ===============\n",
      "4987/4987 [==============================] - 86s 17ms/step - loss: 0.1501 - accuracy: 0.9635 - val_loss: 0.2182 - val_accuracy: 0.9492\n",
      "1 =============== 3 ===============\n",
      "6015/6015 [==============================] - 102s 17ms/step - loss: 0.1466 - accuracy: 0.9646 - val_loss: 0.2088 - val_accuracy: 0.9517\n",
      "1563/1563 [==============================] - 9s 6ms/step - loss: 1.7577 - accuracy: 0.6554\n"
     ]
    },
    {
     "name": "stderr",
     "output_type": "stream",
     "text": [
      " 20%|██        | 2/10 [12:15<49:32, 371.60s/it]"
     ]
    },
    {
     "name": "stdout",
     "output_type": "stream",
     "text": [
      "2 =============== 1 ===============\n",
      "4987/4987 [==============================] - 84s 17ms/step - loss: 0.0997 - accuracy: 0.9760 - val_loss: 0.1993 - val_accuracy: 0.9536\n",
      "2 =============== 2 ===============\n",
      "4987/4987 [==============================] - 86s 17ms/step - loss: 0.0994 - accuracy: 0.9759 - val_loss: 0.1999 - val_accuracy: 0.9541\n",
      "2 =============== 3 ===============\n",
      "6015/6015 [==============================] - 102s 17ms/step - loss: 0.0998 - accuracy: 0.9758 - val_loss: 0.1965 - val_accuracy: 0.9551\n",
      "1563/1563 [==============================] - 9s 6ms/step - loss: 1.8155 - accuracy: 0.6562\n"
     ]
    },
    {
     "name": "stderr",
     "output_type": "stream",
     "text": [
      " 30%|███       | 3/10 [18:14<42:54, 367.74s/it]"
     ]
    },
    {
     "name": "stdout",
     "output_type": "stream",
     "text": [
      "3 =============== 1 ===============\n",
      "4987/4987 [==============================] - 85s 17ms/step - loss: 0.0686 - accuracy: 0.9837 - val_loss: 0.1867 - val_accuracy: 0.9571\n",
      "3 =============== 2 ===============\n",
      "4987/4987 [==============================] - 86s 17ms/step - loss: 0.0689 - accuracy: 0.9836 - val_loss: 0.1887 - val_accuracy: 0.9571\n",
      "3 =============== 3 ===============\n",
      "6015/6015 [==============================] - 101s 17ms/step - loss: 0.0705 - accuracy: 0.9829 - val_loss: 0.1894 - val_accuracy: 0.9574\n",
      "1563/1563 [==============================] - 9s 6ms/step - loss: 1.8735 - accuracy: 0.6564\n"
     ]
    },
    {
     "name": "stderr",
     "output_type": "stream",
     "text": [
      " 40%|████      | 4/10 [24:14<36:31, 365.23s/it]"
     ]
    },
    {
     "name": "stdout",
     "output_type": "stream",
     "text": [
      "4 =============== 1 ===============\n",
      "4987/4987 [==============================] - 84s 17ms/step - loss: 0.0495 - accuracy: 0.9885 - val_loss: 0.1791 - val_accuracy: 0.9599\n",
      "4 =============== 2 ===============\n",
      "4987/4987 [==============================] - 86s 17ms/step - loss: 0.0498 - accuracy: 0.9884 - val_loss: 0.1820 - val_accuracy: 0.9593\n",
      "4 =============== 3 ===============\n",
      "6015/6015 [==============================] - 101s 17ms/step - loss: 0.0514 - accuracy: 0.9876 - val_loss: 0.1856 - val_accuracy: 0.9591\n",
      "1563/1563 [==============================] - 9s 6ms/step - loss: 1.9301 - accuracy: 0.6567\n"
     ]
    },
    {
     "name": "stderr",
     "output_type": "stream",
     "text": [
      " 50%|█████     | 5/10 [30:12<30:15, 363.09s/it]"
     ]
    },
    {
     "name": "stdout",
     "output_type": "stream",
     "text": [
      "5 =============== 1 ===============\n",
      "4987/4987 [==============================] - 84s 17ms/step - loss: 0.0372 - accuracy: 0.9915 - val_loss: 0.1748 - val_accuracy: 0.9616\n",
      "5 =============== 2 ===============\n",
      "4987/4987 [==============================] - 86s 17ms/step - loss: 0.0374 - accuracy: 0.9915 - val_loss: 0.1783 - val_accuracy: 0.9609\n",
      "5 =============== 3 ===============\n",
      "6015/6015 [==============================] - 102s 17ms/step - loss: 0.0387 - accuracy: 0.9908 - val_loss: 0.1841 - val_accuracy: 0.9602\n",
      "1563/1563 [==============================] - 9s 6ms/step - loss: 1.9853 - accuracy: 0.6568\n"
     ]
    },
    {
     "name": "stderr",
     "output_type": "stream",
     "text": [
      " 60%|██████    | 6/10 [36:10<24:06, 361.69s/it]"
     ]
    },
    {
     "name": "stdout",
     "output_type": "stream",
     "text": [
      "6 =============== 1 ===============\n",
      "4987/4987 [==============================] - 87s 18ms/step - loss: 0.0290 - accuracy: 0.9935 - val_loss: 0.1727 - val_accuracy: 0.9628\n",
      "6 =============== 2 ===============\n",
      "4987/4987 [==============================] - 90s 18ms/step - loss: 0.0291 - accuracy: 0.9935 - val_loss: 0.1764 - val_accuracy: 0.9623\n",
      "6 =============== 3 ===============\n",
      "6015/6015 [==============================] - 104s 17ms/step - loss: 0.0301 - accuracy: 0.9929 - val_loss: 0.1841 - val_accuracy: 0.9611\n",
      "1563/1563 [==============================] - 9s 6ms/step - loss: 2.0387 - accuracy: 0.6574\n"
     ]
    },
    {
     "name": "stderr",
     "output_type": "stream",
     "text": [
      " 70%|███████   | 7/10 [42:21<18:13, 364.54s/it]"
     ]
    },
    {
     "name": "stdout",
     "output_type": "stream",
     "text": [
      "7 =============== 1 ===============\n",
      "4987/4987 [==============================] - 83s 17ms/step - loss: 0.0233 - accuracy: 0.9948 - val_loss: 0.1721 - val_accuracy: 0.9636\n",
      "7 =============== 2 ===============\n",
      "4987/4987 [==============================] - 91s 18ms/step - loss: 0.0233 - accuracy: 0.9947 - val_loss: 0.1759 - val_accuracy: 0.9632\n",
      "7 =============== 3 ===============\n",
      "6015/6015 [==============================] - 106s 18ms/step - loss: 0.0241 - accuracy: 0.9943 - val_loss: 0.1849 - val_accuracy: 0.9617\n",
      "1563/1563 [==============================] - 9s 6ms/step - loss: 2.0893 - accuracy: 0.6576\n"
     ]
    },
    {
     "name": "stderr",
     "output_type": "stream",
     "text": [
      " 80%|████████  | 8/10 [48:31<12:12, 366.05s/it]"
     ]
    },
    {
     "name": "stdout",
     "output_type": "stream",
     "text": [
      "8 =============== 1 ===============\n",
      "4987/4987 [==============================] - 85s 17ms/step - loss: 0.0193 - accuracy: 0.9956 - val_loss: 0.1724 - val_accuracy: 0.9642\n",
      "8 =============== 2 ===============\n",
      "4987/4987 [==============================] - 91s 18ms/step - loss: 0.0193 - accuracy: 0.9956 - val_loss: 0.1762 - val_accuracy: 0.9636\n",
      "8 =============== 3 ===============\n",
      "6015/6015 [==============================] - 106s 18ms/step - loss: 0.0200 - accuracy: 0.9953 - val_loss: 0.1863 - val_accuracy: 0.9619\n",
      "1563/1563 [==============================] - 9s 6ms/step - loss: 2.1367 - accuracy: 0.6578\n"
     ]
    },
    {
     "name": "stderr",
     "output_type": "stream",
     "text": [
      " 90%|█████████ | 9/10 [54:41<06:07, 367.38s/it]"
     ]
    },
    {
     "name": "stdout",
     "output_type": "stream",
     "text": [
      "9 =============== 1 ===============\n",
      "4987/4987 [==============================] - 86s 17ms/step - loss: 0.0165 - accuracy: 0.9962 - val_loss: 0.1732 - val_accuracy: 0.9645\n",
      "9 =============== 2 ===============\n",
      "4987/4987 [==============================] - 90s 18ms/step - loss: 0.0164 - accuracy: 0.9962 - val_loss: 0.1770 - val_accuracy: 0.9640\n",
      "9 =============== 3 ===============\n",
      "6015/6015 [==============================] - 104s 17ms/step - loss: 0.0170 - accuracy: 0.9959 - val_loss: 0.1881 - val_accuracy: 0.9622\n",
      "1563/1563 [==============================] - 9s 6ms/step - loss: 2.1804 - accuracy: 0.6575\n"
     ]
    },
    {
     "name": "stderr",
     "output_type": "stream",
     "text": [
      "100%|██████████| 10/10 [1:00:53<00:00, 365.31s/it]\n"
     ]
    },
    {
     "name": "stdout",
     "output_type": "stream",
     "text": [
      "0.3 starting\n",
      "WARNING:tensorflow:No training configuration found in the save file, so the model was *not* compiled. Compile it manually.\n"
     ]
    },
    {
     "name": "stderr",
     "output_type": "stream",
     "text": [
      "  0%|          | 0/10 [00:00<?, ?it/s]"
     ]
    },
    {
     "name": "stdout",
     "output_type": "stream",
     "text": [
      "Model: \"sequential_4\"\n",
      "_________________________________________________________________\n",
      "Layer (type)                 Output Shape              Param #   \n",
      "=================================================================\n",
      "flatten (Flatten)            (None, 25088)             0         \n",
      "_________________________________________________________________\n",
      "fc1 (Dense)                  (None, 4096)              102764544 \n",
      "_________________________________________________________________\n",
      "fc2 (Dense)                  (None, 4096)              16781312  \n",
      "_________________________________________________________________\n",
      "predictions (Dense)          (None, 1000)              4097000   \n",
      "=================================================================\n",
      "Total params: 123,642,856\n",
      "Trainable params: 123,642,856\n",
      "Non-trainable params: 0\n",
      "_________________________________________________________________\n",
      "0 =============== 1 ===============\n",
      "4987/4987 [==============================] - 83s 17ms/step - loss: 0.2926 - accuracy: 0.9398 - val_loss: 0.2637 - val_accuracy: 0.9412\n",
      "0 =============== 2 ===============\n",
      "4987/4987 [==============================] - 89s 18ms/step - loss: 0.2424 - accuracy: 0.9448 - val_loss: 0.2480 - val_accuracy: 0.9435\n",
      "0 =============== 3 ===============\n",
      "6015/6015 [==============================] - 110s 18ms/step - loss: 0.2224 - accuracy: 0.9482 - val_loss: 0.2261 - val_accuracy: 0.9473\n",
      "1563/1563 [==============================] - 9s 6ms/step - loss: 1.7008 - accuracy: 0.6552\n"
     ]
    },
    {
     "name": "stderr",
     "output_type": "stream",
     "text": [
      " 10%|█         | 1/10 [06:15<56:22, 375.88s/it]"
     ]
    },
    {
     "name": "stdout",
     "output_type": "stream",
     "text": [
      "1 =============== 1 ===============\n",
      "4987/4987 [==============================] - 85s 17ms/step - loss: 0.1443 - accuracy: 0.9647 - val_loss: 0.2162 - val_accuracy: 0.9493\n",
      "1 =============== 2 ===============\n",
      "4987/4987 [==============================] - 86s 17ms/step - loss: 0.1404 - accuracy: 0.9659 - val_loss: 0.2134 - val_accuracy: 0.9503\n",
      "1 =============== 3 ===============\n",
      "6015/6015 [==============================] - 101s 17ms/step - loss: 0.1369 - accuracy: 0.9669 - val_loss: 0.2040 - val_accuracy: 0.9528\n",
      "1563/1563 [==============================] - 9s 6ms/step - loss: 1.7637 - accuracy: 0.6557\n"
     ]
    },
    {
     "name": "stderr",
     "output_type": "stream",
     "text": [
      " 20%|██        | 2/10 [12:14<49:25, 370.72s/it]"
     ]
    },
    {
     "name": "stdout",
     "output_type": "stream",
     "text": [
      "2 =============== 1 ===============\n",
      "4987/4987 [==============================] - 84s 17ms/step - loss: 0.0891 - accuracy: 0.9785 - val_loss: 0.1945 - val_accuracy: 0.9547\n",
      "2 =============== 2 ===============\n",
      "4987/4987 [==============================] - 86s 17ms/step - loss: 0.0888 - accuracy: 0.9785 - val_loss: 0.1949 - val_accuracy: 0.9553\n",
      "2 =============== 3 ===============\n",
      "6015/6015 [==============================] - 107s 18ms/step - loss: 0.0893 - accuracy: 0.9784 - val_loss: 0.1922 - val_accuracy: 0.9562\n",
      "1563/1563 [==============================] - 9s 6ms/step - loss: 1.8302 - accuracy: 0.6562\n"
     ]
    },
    {
     "name": "stderr",
     "output_type": "stream",
     "text": [
      " 30%|███       | 3/10 [18:20<43:03, 369.14s/it]"
     ]
    },
    {
     "name": "stdout",
     "output_type": "stream",
     "text": [
      "3 =============== 1 ===============\n",
      "4987/4987 [==============================] - 83s 17ms/step - loss: 0.0592 - accuracy: 0.9861 - val_loss: 0.1824 - val_accuracy: 0.9585\n",
      "3 =============== 2 ===============\n",
      "4987/4987 [==============================] - 87s 17ms/step - loss: 0.0595 - accuracy: 0.9860 - val_loss: 0.1844 - val_accuracy: 0.9584\n",
      "3 =============== 3 ===============\n",
      "6015/6015 [==============================] - 107s 18ms/step - loss: 0.0609 - accuracy: 0.9853 - val_loss: 0.1861 - val_accuracy: 0.9585\n",
      "1563/1563 [==============================] - 9s 6ms/step - loss: 1.8967 - accuracy: 0.6565\n"
     ]
    },
    {
     "name": "stderr",
     "output_type": "stream",
     "text": [
      " 40%|████      | 4/10 [24:25<36:47, 367.91s/it]"
     ]
    },
    {
     "name": "stdout",
     "output_type": "stream",
     "text": [
      "4 =============== 1 ===============\n",
      "4987/4987 [==============================] - 86s 17ms/step - loss: 0.0417 - accuracy: 0.9904 - val_loss: 0.1759 - val_accuracy: 0.9609\n",
      "4 =============== 2 ===============\n",
      "4987/4987 [==============================] - 91s 18ms/step - loss: 0.0419 - accuracy: 0.9904 - val_loss: 0.1788 - val_accuracy: 0.9606\n",
      "4 =============== 3 ===============\n",
      "6015/6015 [==============================] - 105s 18ms/step - loss: 0.0432 - accuracy: 0.9895 - val_loss: 0.1835 - val_accuracy: 0.9600\n",
      "1563/1563 [==============================] - 9s 6ms/step - loss: 1.9606 - accuracy: 0.6575\n"
     ]
    },
    {
     "name": "stderr",
     "output_type": "stream",
     "text": [
      " 50%|█████     | 5/10 [30:36<30:44, 368.96s/it]"
     ]
    },
    {
     "name": "stdout",
     "output_type": "stream",
     "text": [
      "5 =============== 1 ===============\n",
      "4987/4987 [==============================] - 84s 17ms/step - loss: 0.0308 - accuracy: 0.9930 - val_loss: 0.1728 - val_accuracy: 0.9625\n",
      "5 =============== 2 ===============\n",
      "4987/4987 [==============================] - 86s 17ms/step - loss: 0.0309 - accuracy: 0.9929 - val_loss: 0.1761 - val_accuracy: 0.9619\n",
      "5 =============== 3 ===============\n",
      "6015/6015 [==============================] - 101s 17ms/step - loss: 0.0319 - accuracy: 0.9924 - val_loss: 0.1832 - val_accuracy: 0.9611\n",
      "1563/1563 [==============================] - 9s 6ms/step - loss: 2.0227 - accuracy: 0.6573\n"
     ]
    },
    {
     "name": "stderr",
     "output_type": "stream",
     "text": [
      " 60%|██████    | 6/10 [36:35<24:23, 365.92s/it]"
     ]
    },
    {
     "name": "stdout",
     "output_type": "stream",
     "text": [
      "6 =============== 1 ===============\n",
      "4987/4987 [==============================] - 84s 17ms/step - loss: 0.0238 - accuracy: 0.9947 - val_loss: 0.1718 - val_accuracy: 0.9635\n",
      "6 =============== 2 ===============\n",
      "4987/4987 [==============================] - 87s 17ms/step - loss: 0.0238 - accuracy: 0.9946 - val_loss: 0.1754 - val_accuracy: 0.9631\n",
      "6 =============== 3 ===============\n",
      "6015/6015 [==============================] - 102s 17ms/step - loss: 0.0246 - accuracy: 0.9941 - val_loss: 0.1842 - val_accuracy: 0.9617\n",
      "1563/1563 [==============================] - 9s 6ms/step - loss: 2.0815 - accuracy: 0.6576\n"
     ]
    },
    {
     "name": "stderr",
     "output_type": "stream",
     "text": [
      " 70%|███████   | 7/10 [42:35<18:12, 364.11s/it]"
     ]
    },
    {
     "name": "stdout",
     "output_type": "stream",
     "text": [
      "7 =============== 1 ===============\n",
      "4987/4987 [==============================] - 90s 18ms/step - loss: 0.0191 - accuracy: 0.9956 - val_loss: 0.1721 - val_accuracy: 0.9642\n",
      "7 =============== 2 ===============\n",
      "4987/4987 [==============================] - 92s 18ms/step - loss: 0.0191 - accuracy: 0.9956 - val_loss: 0.1758 - val_accuracy: 0.9638\n",
      "7 =============== 3 ===============\n",
      "6015/6015 [==============================] - 101s 17ms/step - loss: 0.0197 - accuracy: 0.9953 - val_loss: 0.1859 - val_accuracy: 0.9621\n",
      "1563/1563 [==============================] - 9s 6ms/step - loss: 2.1365 - accuracy: 0.6579\n"
     ]
    },
    {
     "name": "stderr",
     "output_type": "stream",
     "text": [
      " 80%|████████  | 8/10 [48:46<12:12, 366.18s/it]"
     ]
    },
    {
     "name": "stdout",
     "output_type": "stream",
     "text": [
      "8 =============== 1 ===============\n",
      "4987/4987 [==============================] - 84s 17ms/step - loss: 0.0160 - accuracy: 0.9963 - val_loss: 0.1731 - val_accuracy: 0.9645\n",
      "8 =============== 2 ===============\n",
      "4987/4987 [==============================] - 86s 17ms/step - loss: 0.0159 - accuracy: 0.9963 - val_loss: 0.1768 - val_accuracy: 0.9641\n",
      "8 =============== 3 ===============\n",
      "6015/6015 [==============================] - 102s 17ms/step - loss: 0.0164 - accuracy: 0.9959 - val_loss: 0.1880 - val_accuracy: 0.9624\n",
      "1563/1563 [==============================] - 10s 6ms/step - loss: 2.1865 - accuracy: 0.6581\n"
     ]
    },
    {
     "name": "stderr",
     "output_type": "stream",
     "text": [
      " 90%|█████████ | 9/10 [54:45<06:04, 364.12s/it]"
     ]
    },
    {
     "name": "stdout",
     "output_type": "stream",
     "text": [
      "9 =============== 1 ===============\n",
      "4987/4987 [==============================] - 84s 17ms/step - loss: 0.0137 - accuracy: 0.9967 - val_loss: 0.1745 - val_accuracy: 0.9648\n",
      "9 =============== 2 ===============\n",
      "4987/4987 [==============================] - 87s 17ms/step - loss: 0.0136 - accuracy: 0.9968 - val_loss: 0.1782 - val_accuracy: 0.9645\n",
      "9 =============== 3 ===============\n",
      "6015/6015 [==============================] - 106s 18ms/step - loss: 0.0141 - accuracy: 0.9964 - val_loss: 0.1902 - val_accuracy: 0.9626\n",
      "1563/1563 [==============================] - 9s 6ms/step - loss: 2.2317 - accuracy: 0.6582\n"
     ]
    },
    {
     "name": "stderr",
     "output_type": "stream",
     "text": [
      "100%|██████████| 10/10 [1:00:54<00:00, 365.44s/it]\n"
     ]
    },
    {
     "name": "stdout",
     "output_type": "stream",
     "text": [
      "0.4 starting\n",
      "WARNING:tensorflow:No training configuration found in the save file, so the model was *not* compiled. Compile it manually.\n"
     ]
    },
    {
     "name": "stderr",
     "output_type": "stream",
     "text": [
      "  0%|          | 0/10 [00:00<?, ?it/s]"
     ]
    },
    {
     "name": "stdout",
     "output_type": "stream",
     "text": [
      "Model: \"sequential_4\"\n",
      "_________________________________________________________________\n",
      "Layer (type)                 Output Shape              Param #   \n",
      "=================================================================\n",
      "flatten (Flatten)            (None, 25088)             0         \n",
      "_________________________________________________________________\n",
      "fc1 (Dense)                  (None, 4096)              102764544 \n",
      "_________________________________________________________________\n",
      "fc2 (Dense)                  (None, 4096)              16781312  \n",
      "_________________________________________________________________\n",
      "predictions (Dense)          (None, 1000)              4097000   \n",
      "=================================================================\n",
      "Total params: 123,642,856\n",
      "Trainable params: 123,642,856\n",
      "Non-trainable params: 0\n",
      "_________________________________________________________________\n",
      "0 =============== 1 ===============\n",
      "4987/4987 [==============================] - 84s 17ms/step - loss: 0.2894 - accuracy: 0.9399 - val_loss: 0.2619 - val_accuracy: 0.9412\n",
      "0 =============== 2 ===============\n",
      "4987/4987 [==============================] - 84s 17ms/step - loss: 0.2388 - accuracy: 0.9453 - val_loss: 0.2443 - val_accuracy: 0.9441\n",
      "0 =============== 3 ===============\n",
      "6015/6015 [==============================] - 111s 18ms/step - loss: 0.2173 - accuracy: 0.9493 - val_loss: 0.2210 - val_accuracy: 0.9483\n",
      "1563/1563 [==============================] - 9s 6ms/step - loss: 1.6983 - accuracy: 0.6553\n"
     ]
    },
    {
     "name": "stderr",
     "output_type": "stream",
     "text": [
      " 10%|█         | 1/10 [06:17<56:37, 377.53s/it]"
     ]
    },
    {
     "name": "stdout",
     "output_type": "stream",
     "text": [
      "1 =============== 1 ===============\n",
      "4987/4987 [==============================] - 87s 17ms/step - loss: 0.1327 - accuracy: 0.9673 - val_loss: 0.2111 - val_accuracy: 0.9505\n",
      "1 =============== 2 ===============\n",
      "4987/4987 [==============================] - 91s 18ms/step - loss: 0.1288 - accuracy: 0.9687 - val_loss: 0.2077 - val_accuracy: 0.9517\n",
      "1 =============== 3 ===============\n",
      "6015/6015 [==============================] - 100s 17ms/step - loss: 0.1254 - accuracy: 0.9696 - val_loss: 0.1986 - val_accuracy: 0.9542\n",
      "1563/1563 [==============================] - 9s 6ms/step - loss: 1.7723 - accuracy: 0.6559\n"
     ]
    },
    {
     "name": "stderr",
     "output_type": "stream",
     "text": [
      " 20%|██        | 2/10 [12:23<49:52, 374.07s/it]"
     ]
    },
    {
     "name": "stdout",
     "output_type": "stream",
     "text": [
      "2 =============== 1 ===============\n",
      "4987/4987 [==============================] - 85s 17ms/step - loss: 0.0773 - accuracy: 0.9814 - val_loss: 0.1890 - val_accuracy: 0.9561\n",
      "2 =============== 2 ===============\n",
      "4987/4987 [==============================] - 89s 18ms/step - loss: 0.0769 - accuracy: 0.9815 - val_loss: 0.1894 - val_accuracy: 0.9569\n",
      "2 =============== 3 ===============\n",
      "6015/6015 [==============================] - 101s 17ms/step - loss: 0.0775 - accuracy: 0.9811 - val_loss: 0.1877 - val_accuracy: 0.9577\n",
      "1563/1563 [==============================] - 9s 6ms/step - loss: 1.8506 - accuracy: 0.6562\n"
     ]
    },
    {
     "name": "stderr",
     "output_type": "stream",
     "text": [
      " 30%|███       | 3/10 [18:26<43:15, 370.83s/it]"
     ]
    },
    {
     "name": "stdout",
     "output_type": "stream",
     "text": [
      "3 =============== 1 ===============\n",
      "4987/4987 [==============================] - 85s 17ms/step - loss: 0.0493 - accuracy: 0.9884 - val_loss: 0.1779 - val_accuracy: 0.9599\n",
      "3 =============== 2 ===============\n",
      "4987/4987 [==============================] - 87s 17ms/step - loss: 0.0494 - accuracy: 0.9884 - val_loss: 0.1800 - val_accuracy: 0.9597\n",
      "3 =============== 3 ===============\n",
      "6015/6015 [==============================] - 101s 17ms/step - loss: 0.0506 - accuracy: 0.9878 - val_loss: 0.1831 - val_accuracy: 0.9596\n",
      "1563/1563 [==============================] - 9s 6ms/step - loss: 1.9273 - accuracy: 0.6572\n"
     ]
    },
    {
     "name": "stderr",
     "output_type": "stream",
     "text": [
      " 40%|████      | 4/10 [24:27<36:45, 367.65s/it]"
     ]
    },
    {
     "name": "stdout",
     "output_type": "stream",
     "text": [
      "4 =============== 1 ===============\n",
      "4987/4987 [==============================] - 84s 17ms/step - loss: 0.0338 - accuracy: 0.9922 - val_loss: 0.1729 - val_accuracy: 0.9622\n",
      "4 =============== 2 ===============\n",
      "4987/4987 [==============================] - 87s 17ms/step - loss: 0.0338 - accuracy: 0.9922 - val_loss: 0.1759 - val_accuracy: 0.9618\n",
      "4 =============== 3 ===============\n",
      "6015/6015 [==============================] - 107s 18ms/step - loss: 0.0348 - accuracy: 0.9916 - val_loss: 0.1822 - val_accuracy: 0.9609\n",
      "1563/1563 [==============================] - 9s 6ms/step - loss: 2.0010 - accuracy: 0.6576\n"
     ]
    },
    {
     "name": "stderr",
     "output_type": "stream",
     "text": [
      " 50%|█████     | 5/10 [30:32<30:35, 367.14s/it]"
     ]
    },
    {
     "name": "stdout",
     "output_type": "stream",
     "text": [
      "5 =============== 1 ===============\n",
      "4987/4987 [==============================] - 83s 17ms/step - loss: 0.0246 - accuracy: 0.9944 - val_loss: 0.1713 - val_accuracy: 0.9635\n",
      "5 =============== 2 ===============\n",
      "4987/4987 [==============================] - 90s 18ms/step - loss: 0.0246 - accuracy: 0.9943 - val_loss: 0.1747 - val_accuracy: 0.9631\n",
      "5 =============== 3 ===============\n",
      "6015/6015 [==============================] - 106s 18ms/step - loss: 0.0253 - accuracy: 0.9939 - val_loss: 0.1833 - val_accuracy: 0.9618\n",
      "1563/1563 [==============================] - 9s 6ms/step - loss: 2.0709 - accuracy: 0.6577\n"
     ]
    },
    {
     "name": "stderr",
     "output_type": "stream",
     "text": [
      " 60%|██████    | 6/10 [36:40<24:28, 367.22s/it]"
     ]
    },
    {
     "name": "stdout",
     "output_type": "stream",
     "text": [
      "6 =============== 1 ===============\n",
      "4987/4987 [==============================] - 86s 17ms/step - loss: 0.0190 - accuracy: 0.9955 - val_loss: 0.1716 - val_accuracy: 0.9643\n",
      "6 =============== 2 ===============\n",
      "4987/4987 [==============================] - 88s 18ms/step - loss: 0.0189 - accuracy: 0.9955 - val_loss: 0.1752 - val_accuracy: 0.9639\n",
      "6 =============== 3 ===============\n",
      "6015/6015 [==============================] - 104s 17ms/step - loss: 0.0195 - accuracy: 0.9952 - val_loss: 0.1854 - val_accuracy: 0.9624\n",
      "1563/1563 [==============================] - 10s 6ms/step - loss: 2.1354 - accuracy: 0.6578\n"
     ]
    },
    {
     "name": "stderr",
     "output_type": "stream",
     "text": [
      " 70%|███████   | 7/10 [42:46<18:20, 366.75s/it]"
     ]
    },
    {
     "name": "stdout",
     "output_type": "stream",
     "text": [
      "7 =============== 1 ===============\n",
      "4987/4987 [==============================] - 85s 17ms/step - loss: 0.0154 - accuracy: 0.9963 - val_loss: 0.1729 - val_accuracy: 0.9648\n",
      "7 =============== 2 ===============\n",
      "4987/4987 [==============================] - 87s 17ms/step - loss: 0.0153 - accuracy: 0.9963 - val_loss: 0.1766 - val_accuracy: 0.9642\n",
      "7 =============== 3 ===============\n",
      "6015/6015 [==============================] - 101s 17ms/step - loss: 0.0158 - accuracy: 0.9960 - val_loss: 0.1879 - val_accuracy: 0.9625\n",
      "1563/1563 [==============================] - 9s 6ms/step - loss: 2.1938 - accuracy: 0.6580\n"
     ]
    },
    {
     "name": "stderr",
     "output_type": "stream",
     "text": [
      " 80%|████████  | 8/10 [48:46<12:09, 364.93s/it]"
     ]
    },
    {
     "name": "stdout",
     "output_type": "stream",
     "text": [
      "8 =============== 1 ===============\n",
      "4987/4987 [==============================] - 84s 17ms/step - loss: 0.0130 - accuracy: 0.9968 - val_loss: 0.1747 - val_accuracy: 0.9650\n",
      "8 =============== 2 ===============\n",
      "4987/4987 [==============================] - 85s 17ms/step - loss: 0.0129 - accuracy: 0.9968 - val_loss: 0.1783 - val_accuracy: 0.9646\n",
      "8 =============== 3 ===============\n",
      "6015/6015 [==============================] - 102s 17ms/step - loss: 0.0133 - accuracy: 0.9966 - val_loss: 0.1906 - val_accuracy: 0.9627\n",
      "1563/1563 [==============================] - 10s 6ms/step - loss: 2.2452 - accuracy: 0.6581\n"
     ]
    },
    {
     "name": "stderr",
     "output_type": "stream",
     "text": [
      " 90%|█████████ | 9/10 [54:45<06:03, 363.04s/it]"
     ]
    },
    {
     "name": "stdout",
     "output_type": "stream",
     "text": [
      "9 =============== 1 ===============\n",
      "4987/4987 [==============================] - 84s 17ms/step - loss: 0.0113 - accuracy: 0.9971 - val_loss: 0.1766 - val_accuracy: 0.9652\n",
      "9 =============== 2 ===============\n",
      "4987/4987 [==============================] - 85s 17ms/step - loss: 0.0112 - accuracy: 0.9971 - val_loss: 0.1803 - val_accuracy: 0.9649\n",
      "9 =============== 3 ===============\n",
      "6015/6015 [==============================] - 101s 17ms/step - loss: 0.0116 - accuracy: 0.9969 - val_loss: 0.1932 - val_accuracy: 0.9628\n",
      "1563/1563 [==============================] - 9s 6ms/step - loss: 2.2904 - accuracy: 0.6582\n"
     ]
    },
    {
     "name": "stderr",
     "output_type": "stream",
     "text": [
      "100%|██████████| 10/10 [1:00:44<00:00, 364.45s/it]\n"
     ]
    },
    {
     "name": "stdout",
     "output_type": "stream",
     "text": [
      "0.5 starting\n",
      "WARNING:tensorflow:No training configuration found in the save file, so the model was *not* compiled. Compile it manually.\n"
     ]
    },
    {
     "name": "stderr",
     "output_type": "stream",
     "text": [
      "  0%|          | 0/10 [00:00<?, ?it/s]"
     ]
    },
    {
     "name": "stdout",
     "output_type": "stream",
     "text": [
      "Model: \"sequential_4\"\n",
      "_________________________________________________________________\n",
      "Layer (type)                 Output Shape              Param #   \n",
      "=================================================================\n",
      "flatten (Flatten)            (None, 25088)             0         \n",
      "_________________________________________________________________\n",
      "fc1 (Dense)                  (None, 4096)              102764544 \n",
      "_________________________________________________________________\n",
      "fc2 (Dense)                  (None, 4096)              16781312  \n",
      "_________________________________________________________________\n",
      "predictions (Dense)          (None, 1000)              4097000   \n",
      "=================================================================\n",
      "Total params: 123,642,856\n",
      "Trainable params: 123,642,856\n",
      "Non-trainable params: 0\n",
      "_________________________________________________________________\n",
      "0 =============== 1 ===============\n",
      "4987/4987 [==============================] - 83s 17ms/step - loss: 0.2859 - accuracy: 0.9398 - val_loss: 0.2601 - val_accuracy: 0.9414\n",
      "0 =============== 2 ===============\n",
      "4987/4987 [==============================] - 84s 17ms/step - loss: 0.2346 - accuracy: 0.9461 - val_loss: 0.2400 - val_accuracy: 0.9448\n",
      "0 =============== 3 ===============\n",
      "6015/6015 [==============================] - 106s 18ms/step - loss: 0.2110 - accuracy: 0.9508 - val_loss: 0.2147 - val_accuracy: 0.9498\n",
      "1563/1563 [==============================] - 9s 6ms/step - loss: 1.6961 - accuracy: 0.6552\n"
     ]
    },
    {
     "name": "stderr",
     "output_type": "stream",
     "text": [
      " 10%|█         | 1/10 [06:12<55:50, 372.31s/it]"
     ]
    },
    {
     "name": "stdout",
     "output_type": "stream",
     "text": [
      "1 =============== 1 ===============\n",
      "4987/4987 [==============================] - 83s 17ms/step - loss: 0.1187 - accuracy: 0.9708 - val_loss: 0.2047 - val_accuracy: 0.9517\n",
      "1 =============== 2 ===============\n",
      "4987/4987 [==============================] - 86s 17ms/step - loss: 0.1148 - accuracy: 0.9721 - val_loss: 0.2008 - val_accuracy: 0.9535\n",
      "1 =============== 3 ===============\n",
      "6015/6015 [==============================] - 102s 17ms/step - loss: 0.1115 - accuracy: 0.9731 - val_loss: 0.1922 - val_accuracy: 0.9559\n",
      "1563/1563 [==============================] - 9s 6ms/step - loss: 1.7851 - accuracy: 0.6560\n"
     ]
    },
    {
     "name": "stderr",
     "output_type": "stream",
     "text": [
      " 20%|██        | 2/10 [12:10<49:03, 367.96s/it]"
     ]
    },
    {
     "name": "stdout",
     "output_type": "stream",
     "text": [
      "2 =============== 1 ===============\n",
      "4987/4987 [==============================] - 86s 17ms/step - loss: 0.0641 - accuracy: 0.9847 - val_loss: 0.1827 - val_accuracy: 0.9579\n",
      "2 =============== 2 ===============\n",
      "4987/4987 [==============================] - 91s 18ms/step - loss: 0.0637 - accuracy: 0.9848 - val_loss: 0.1833 - val_accuracy: 0.9585\n",
      "2 =============== 3 ===============\n",
      "6015/6015 [==============================] - 103s 17ms/step - loss: 0.0642 - accuracy: 0.9844 - val_loss: 0.1831 - val_accuracy: 0.9591\n",
      "1563/1563 [==============================] - 9s 6ms/step - loss: 1.8790 - accuracy: 0.6572\n"
     ]
    },
    {
     "name": "stderr",
     "output_type": "stream",
     "text": [
      " 30%|███       | 3/10 [18:18<42:55, 367.97s/it]"
     ]
    },
    {
     "name": "stdout",
     "output_type": "stream",
     "text": [
      "3 =============== 1 ===============\n",
      "4987/4987 [==============================] - 83s 17ms/step - loss: 0.0390 - accuracy: 0.9909 - val_loss: 0.1735 - val_accuracy: 0.9616\n",
      "3 =============== 2 ===============\n",
      "4987/4987 [==============================] - 91s 18ms/step - loss: 0.0389 - accuracy: 0.9909 - val_loss: 0.1759 - val_accuracy: 0.9613\n",
      "3 =============== 3 ===============\n",
      "6015/6015 [==============================] - 107s 18ms/step - loss: 0.0397 - accuracy: 0.9903 - val_loss: 0.1808 - val_accuracy: 0.9609\n",
      "1563/1563 [==============================] - 9s 6ms/step - loss: 1.9697 - accuracy: 0.6576\n"
     ]
    },
    {
     "name": "stderr",
     "output_type": "stream",
     "text": [
      " 40%|████      | 4/10 [24:27<36:50, 368.37s/it]"
     ]
    },
    {
     "name": "stdout",
     "output_type": "stream",
     "text": [
      "4 =============== 1 ===============\n",
      "4987/4987 [==============================] - 88s 18ms/step - loss: 0.0260 - accuracy: 0.9940 - val_loss: 0.1707 - val_accuracy: 0.9634\n",
      "4 =============== 2 ===============\n",
      "4987/4987 [==============================] - 86s 17ms/step - loss: 0.0259 - accuracy: 0.9940 - val_loss: 0.1738 - val_accuracy: 0.9631\n",
      "4 =============== 3 ===============\n",
      "6015/6015 [==============================] - 107s 18ms/step - loss: 0.0265 - accuracy: 0.9935 - val_loss: 0.1820 - val_accuracy: 0.9618\n",
      "1563/1563 [==============================] - 9s 6ms/step - loss: 2.0551 - accuracy: 0.6583\n"
     ]
    },
    {
     "name": "stderr",
     "output_type": "stream",
     "text": [
      " 50%|█████     | 5/10 [30:37<30:44, 368.92s/it]"
     ]
    },
    {
     "name": "stdout",
     "output_type": "stream",
     "text": [
      "5 =============== 1 ===============\n",
      "4987/4987 [==============================] - 84s 17ms/step - loss: 0.0189 - accuracy: 0.9955 - val_loss: 0.1711 - val_accuracy: 0.9643\n",
      "5 =============== 2 ===============\n",
      "4987/4987 [==============================] - 87s 17ms/step - loss: 0.0188 - accuracy: 0.9955 - val_loss: 0.1744 - val_accuracy: 0.9640\n",
      "5 =============== 3 ===============\n",
      "6015/6015 [==============================] - 102s 17ms/step - loss: 0.0193 - accuracy: 0.9952 - val_loss: 0.1847 - val_accuracy: 0.9625\n",
      "1563/1563 [==============================] - 10s 6ms/step - loss: 2.1338 - accuracy: 0.6584\n"
     ]
    },
    {
     "name": "stderr",
     "output_type": "stream",
     "text": [
      " 60%|██████    | 6/10 [36:37<24:24, 366.18s/it]"
     ]
    },
    {
     "name": "stdout",
     "output_type": "stream",
     "text": [
      "6 =============== 1 ===============\n",
      "4987/4987 [==============================] - 84s 17ms/step - loss: 0.0148 - accuracy: 0.9963 - val_loss: 0.1727 - val_accuracy: 0.9649\n",
      "6 =============== 2 ===============\n",
      "4987/4987 [==============================] - 87s 17ms/step - loss: 0.0146 - accuracy: 0.9964 - val_loss: 0.1763 - val_accuracy: 0.9646\n",
      "6 =============== 3 ===============\n",
      "6015/6015 [==============================] - 102s 17ms/step - loss: 0.0150 - accuracy: 0.9960 - val_loss: 0.1879 - val_accuracy: 0.9626\n",
      "1563/1563 [==============================] - 9s 6ms/step - loss: 2.2028 - accuracy: 0.6583\n"
     ]
    },
    {
     "name": "stderr",
     "output_type": "stream",
     "text": [
      " 70%|███████   | 7/10 [42:36<18:12, 364.18s/it]"
     ]
    },
    {
     "name": "stdout",
     "output_type": "stream",
     "text": [
      "7 =============== 1 ===============\n",
      "4987/4987 [==============================] - 83s 17ms/step - loss: 0.0122 - accuracy: 0.9968 - val_loss: 0.1749 - val_accuracy: 0.9651\n",
      "7 =============== 2 ===============\n",
      "4987/4987 [==============================] - 90s 18ms/step - loss: 0.0120 - accuracy: 0.9969 - val_loss: 0.1787 - val_accuracy: 0.9648\n",
      "7 =============== 3 ===============\n",
      "6015/6015 [==============================] - 100s 17ms/step - loss: 0.0124 - accuracy: 0.9966 - val_loss: 0.1913 - val_accuracy: 0.9628\n",
      "1563/1563 [==============================] - 9s 6ms/step - loss: 2.2625 - accuracy: 0.6583\n"
     ]
    },
    {
     "name": "stderr",
     "output_type": "stream",
     "text": [
      " 80%|████████  | 8/10 [48:37<12:06, 363.24s/it]"
     ]
    },
    {
     "name": "stdout",
     "output_type": "stream",
     "text": [
      "8 =============== 1 ===============\n",
      "4987/4987 [==============================] - 84s 17ms/step - loss: 0.0105 - accuracy: 0.9971 - val_loss: 0.1773 - val_accuracy: 0.9654\n",
      "8 =============== 2 ===============\n",
      "4987/4987 [==============================] - 85s 17ms/step - loss: 0.0103 - accuracy: 0.9972 - val_loss: 0.1810 - val_accuracy: 0.9650\n",
      "8 =============== 3 ===============\n",
      "6015/6015 [==============================] - 101s 17ms/step - loss: 0.0107 - accuracy: 0.9969 - val_loss: 0.1943 - val_accuracy: 0.9630\n",
      "1563/1563 [==============================] - 9s 6ms/step - loss: 2.3129 - accuracy: 0.6584\n"
     ]
    },
    {
     "name": "stderr",
     "output_type": "stream",
     "text": [
      " 90%|█████████ | 9/10 [54:35<06:01, 361.58s/it]"
     ]
    },
    {
     "name": "stdout",
     "output_type": "stream",
     "text": [
      "9 =============== 1 ===============\n",
      "4987/4987 [==============================] - 83s 17ms/step - loss: 0.0094 - accuracy: 0.9974 - val_loss: 0.1797 - val_accuracy: 0.9655\n",
      "9 =============== 2 ===============\n",
      "4987/4987 [==============================] - 86s 17ms/step - loss: 0.0091 - accuracy: 0.9974 - val_loss: 0.1834 - val_accuracy: 0.9652\n",
      "9 =============== 3 ===============\n",
      "6015/6015 [==============================] - 105s 18ms/step - loss: 0.0095 - accuracy: 0.9971 - val_loss: 0.1971 - val_accuracy: 0.9630\n",
      "1563/1563 [==============================] - 9s 6ms/step - loss: 2.3561 - accuracy: 0.6590\n"
     ]
    },
    {
     "name": "stderr",
     "output_type": "stream",
     "text": [
      "100%|██████████| 10/10 [1:00:41<00:00, 364.14s/it]\n"
     ]
    },
    {
     "name": "stdout",
     "output_type": "stream",
     "text": [
      "0.6 starting\n",
      "WARNING:tensorflow:No training configuration found in the save file, so the model was *not* compiled. Compile it manually.\n"
     ]
    },
    {
     "name": "stderr",
     "output_type": "stream",
     "text": [
      "  0%|          | 0/10 [00:00<?, ?it/s]"
     ]
    },
    {
     "name": "stdout",
     "output_type": "stream",
     "text": [
      "Model: \"sequential_4\"\n",
      "_________________________________________________________________\n",
      "Layer (type)                 Output Shape              Param #   \n",
      "=================================================================\n",
      "flatten (Flatten)            (None, 25088)             0         \n",
      "_________________________________________________________________\n",
      "fc1 (Dense)                  (None, 4096)              102764544 \n",
      "_________________________________________________________________\n",
      "fc2 (Dense)                  (None, 4096)              16781312  \n",
      "_________________________________________________________________\n",
      "predictions (Dense)          (None, 1000)              4097000   \n",
      "=================================================================\n",
      "Total params: 123,642,856\n",
      "Trainable params: 123,642,856\n",
      "Non-trainable params: 0\n",
      "_________________________________________________________________\n",
      "0 =============== 1 ===============\n",
      "4987/4987 [==============================] - 84s 17ms/step - loss: 0.2823 - accuracy: 0.9397 - val_loss: 0.2582 - val_accuracy: 0.9414\n",
      "0 =============== 2 ===============\n",
      "4987/4987 [==============================] - 83s 17ms/step - loss: 0.2295 - accuracy: 0.9471 - val_loss: 0.2347 - val_accuracy: 0.9458\n",
      "0 =============== 3 ===============\n",
      "6015/6015 [==============================] - 106s 18ms/step - loss: 0.2032 - accuracy: 0.9525 - val_loss: 0.2068 - val_accuracy: 0.9518\n",
      "1563/1563 [==============================] - 9s 6ms/step - loss: 1.6948 - accuracy: 0.6557\n"
     ]
    },
    {
     "name": "stderr",
     "output_type": "stream",
     "text": [
      " 10%|█         | 1/10 [06:10<55:31, 370.21s/it]"
     ]
    },
    {
     "name": "stdout",
     "output_type": "stream",
     "text": [
      "1 =============== 1 ===============\n",
      "4987/4987 [==============================] - 83s 17ms/step - loss: 0.1015 - accuracy: 0.9752 - val_loss: 0.1966 - val_accuracy: 0.9538\n",
      "1 =============== 2 ===============\n",
      "4987/4987 [==============================] - 86s 17ms/step - loss: 0.0976 - accuracy: 0.9762 - val_loss: 0.1926 - val_accuracy: 0.9556\n",
      "1 =============== 3 ===============\n",
      "6015/6015 [==============================] - 101s 17ms/step - loss: 0.0947 - accuracy: 0.9771 - val_loss: 0.1851 - val_accuracy: 0.9579\n",
      "1563/1563 [==============================] - 9s 6ms/step - loss: 1.8051 - accuracy: 0.6565\n"
     ]
    },
    {
     "name": "stderr",
     "output_type": "stream",
     "text": [
      " 20%|██        | 2/10 [12:07<48:49, 366.21s/it]"
     ]
    },
    {
     "name": "stdout",
     "output_type": "stream",
     "text": [
      "2 =============== 1 ===============\n",
      "4987/4987 [==============================] - 88s 18ms/step - loss: 0.0497 - accuracy: 0.9880 - val_loss: 0.1758 - val_accuracy: 0.9603\n",
      "2 =============== 2 ===============\n",
      "4987/4987 [==============================] - 89s 18ms/step - loss: 0.0490 - accuracy: 0.9883 - val_loss: 0.1768 - val_accuracy: 0.9606\n",
      "2 =============== 3 ===============\n",
      "6015/6015 [==============================] - 100s 17ms/step - loss: 0.0494 - accuracy: 0.9878 - val_loss: 0.1791 - val_accuracy: 0.9606\n",
      "1563/1563 [==============================] - 9s 6ms/step - loss: 1.9209 - accuracy: 0.6580\n"
     ]
    },
    {
     "name": "stderr",
     "output_type": "stream",
     "text": [
      " 30%|███       | 3/10 [18:11<42:39, 365.66s/it]"
     ]
    },
    {
     "name": "stdout",
     "output_type": "stream",
     "text": [
      "3 =============== 1 ===============\n",
      "4987/4987 [==============================] - 84s 17ms/step - loss: 0.0286 - accuracy: 0.9932 - val_loss: 0.1699 - val_accuracy: 0.9631\n",
      "3 =============== 2 ===============\n",
      "4987/4987 [==============================] - 86s 17ms/step - loss: 0.0282 - accuracy: 0.9932 - val_loss: 0.1725 - val_accuracy: 0.9630\n",
      "3 =============== 3 ===============\n",
      "6015/6015 [==============================] - 100s 17ms/step - loss: 0.0287 - accuracy: 0.9928 - val_loss: 0.1801 - val_accuracy: 0.9619\n",
      "1563/1563 [==============================] - 9s 6ms/step - loss: 2.0308 - accuracy: 0.6582\n"
     ]
    },
    {
     "name": "stderr",
     "output_type": "stream",
     "text": [
      " 40%|████      | 4/10 [24:09<36:20, 363.49s/it]"
     ]
    },
    {
     "name": "stdout",
     "output_type": "stream",
     "text": [
      "4 =============== 1 ===============\n",
      "4987/4987 [==============================] - 83s 17ms/step - loss: 0.0189 - accuracy: 0.9953 - val_loss: 0.1701 - val_accuracy: 0.9644\n",
      "4 =============== 2 ===============\n",
      "4987/4987 [==============================] - 86s 17ms/step - loss: 0.0186 - accuracy: 0.9954 - val_loss: 0.1733 - val_accuracy: 0.9642\n",
      "4 =============== 3 ===============\n",
      "6015/6015 [==============================] - 106s 18ms/step - loss: 0.0190 - accuracy: 0.9951 - val_loss: 0.1837 - val_accuracy: 0.9625\n",
      "1563/1563 [==============================] - 9s 6ms/step - loss: 2.1305 - accuracy: 0.6585\n"
     ]
    },
    {
     "name": "stderr",
     "output_type": "stream",
     "text": [
      " 50%|█████     | 5/10 [30:14<30:19, 363.87s/it]"
     ]
    },
    {
     "name": "stdout",
     "output_type": "stream",
     "text": [
      "5 =============== 1 ===============\n",
      "4987/4987 [==============================] - 83s 17ms/step - loss: 0.0140 - accuracy: 0.9964 - val_loss: 0.1724 - val_accuracy: 0.9649\n",
      "5 =============== 2 ===============\n",
      "4987/4987 [==============================] - 86s 17ms/step - loss: 0.0137 - accuracy: 0.9965 - val_loss: 0.1760 - val_accuracy: 0.9648\n",
      "5 =============== 3 ===============\n",
      "6015/6015 [==============================] - 108s 18ms/step - loss: 0.0141 - accuracy: 0.9961 - val_loss: 0.1880 - val_accuracy: 0.9628\n",
      "1563/1563 [==============================] - 9s 6ms/step - loss: 2.2143 - accuracy: 0.6586\n"
     ]
    },
    {
     "name": "stderr",
     "output_type": "stream",
     "text": [
      " 60%|██████    | 6/10 [36:18<24:15, 363.96s/it]"
     ]
    },
    {
     "name": "stdout",
     "output_type": "stream",
     "text": [
      "6 =============== 1 ===============\n",
      "4987/4987 [==============================] - 86s 17ms/step - loss: 0.0113 - accuracy: 0.9969 - val_loss: 0.1754 - val_accuracy: 0.9651\n",
      "6 =============== 2 ===============\n",
      "4987/4987 [==============================] - 85s 17ms/step - loss: 0.0110 - accuracy: 0.9970 - val_loss: 0.1791 - val_accuracy: 0.9651\n",
      "6 =============== 3 ===============\n",
      "6015/6015 [==============================] - 106s 18ms/step - loss: 0.0114 - accuracy: 0.9967 - val_loss: 0.1922 - val_accuracy: 0.9630\n",
      "1563/1563 [==============================] - 10s 6ms/step - loss: 2.2831 - accuracy: 0.6589\n"
     ]
    },
    {
     "name": "stderr",
     "output_type": "stream",
     "text": [
      " 70%|███████   | 7/10 [42:23<18:12, 364.25s/it]"
     ]
    },
    {
     "name": "stdout",
     "output_type": "stream",
     "text": [
      "7 =============== 1 ===============\n",
      "4987/4987 [==============================] - 89s 18ms/step - loss: 0.0097 - accuracy: 0.9972 - val_loss: 0.1783 - val_accuracy: 0.9654\n",
      "7 =============== 2 ===============\n",
      "4987/4987 [==============================] - 87s 18ms/step - loss: 0.0094 - accuracy: 0.9973 - val_loss: 0.1821 - val_accuracy: 0.9653\n",
      "7 =============== 3 ===============\n",
      "6015/6015 [==============================] - 102s 17ms/step - loss: 0.0097 - accuracy: 0.9970 - val_loss: 0.1958 - val_accuracy: 0.9631\n",
      "1563/1563 [==============================] - 9s 6ms/step - loss: 2.3398 - accuracy: 0.6590\n"
     ]
    },
    {
     "name": "stderr",
     "output_type": "stream",
     "text": [
      " 80%|████████  | 8/10 [48:29<12:09, 364.78s/it]"
     ]
    },
    {
     "name": "stdout",
     "output_type": "stream",
     "text": [
      "8 =============== 1 ===============\n",
      "4987/4987 [==============================] - 83s 17ms/step - loss: 0.0086 - accuracy: 0.9974 - val_loss: 0.1812 - val_accuracy: 0.9656\n",
      "8 =============== 2 ===============\n",
      "4987/4987 [==============================] - 86s 17ms/step - loss: 0.0083 - accuracy: 0.9975 - val_loss: 0.1849 - val_accuracy: 0.9655\n",
      "8 =============== 3 ===============\n",
      "6015/6015 [==============================] - 105s 17ms/step - loss: 0.0087 - accuracy: 0.9972 - val_loss: 0.1991 - val_accuracy: 0.9631\n",
      "1563/1563 [==============================] - 10s 6ms/step - loss: 2.3866 - accuracy: 0.6591\n"
     ]
    },
    {
     "name": "stderr",
     "output_type": "stream",
     "text": [
      " 90%|█████████ | 9/10 [54:33<06:04, 364.37s/it]"
     ]
    },
    {
     "name": "stdout",
     "output_type": "stream",
     "text": [
      "9 =============== 1 ===============\n",
      "4987/4987 [==============================] - 83s 17ms/step - loss: 0.0078 - accuracy: 0.9975 - val_loss: 0.1837 - val_accuracy: 0.9657\n",
      "9 =============== 2 ===============\n",
      "4987/4987 [==============================] - 91s 18ms/step - loss: 0.0075 - accuracy: 0.9976 - val_loss: 0.1874 - val_accuracy: 0.9656\n",
      "9 =============== 3 ===============\n",
      "6015/6015 [==============================] - 106s 18ms/step - loss: 0.0079 - accuracy: 0.9974 - val_loss: 0.2019 - val_accuracy: 0.9633\n",
      "1563/1563 [==============================] - 9s 6ms/step - loss: 2.4267 - accuracy: 0.6595\n"
     ]
    },
    {
     "name": "stderr",
     "output_type": "stream",
     "text": [
      "100%|██████████| 10/10 [1:00:45<00:00, 364.52s/it]\n"
     ]
    },
    {
     "name": "stdout",
     "output_type": "stream",
     "text": [
      "0.7 starting\n",
      "WARNING:tensorflow:No training configuration found in the save file, so the model was *not* compiled. Compile it manually.\n"
     ]
    },
    {
     "name": "stderr",
     "output_type": "stream",
     "text": [
      "  0%|          | 0/10 [00:00<?, ?it/s]"
     ]
    },
    {
     "name": "stdout",
     "output_type": "stream",
     "text": [
      "Model: \"sequential_4\"\n",
      "_________________________________________________________________\n",
      "Layer (type)                 Output Shape              Param #   \n",
      "=================================================================\n",
      "flatten (Flatten)            (None, 25088)             0         \n",
      "_________________________________________________________________\n",
      "fc1 (Dense)                  (None, 4096)              102764544 \n",
      "_________________________________________________________________\n",
      "fc2 (Dense)                  (None, 4096)              16781312  \n",
      "_________________________________________________________________\n",
      "predictions (Dense)          (None, 1000)              4097000   \n",
      "=================================================================\n",
      "Total params: 123,642,856\n",
      "Trainable params: 123,642,856\n",
      "Non-trainable params: 0\n",
      "_________________________________________________________________\n",
      "0 =============== 1 ===============\n",
      "4987/4987 [==============================] - 83s 17ms/step - loss: 0.2785 - accuracy: 0.9397 - val_loss: 0.2563 - val_accuracy: 0.9414\n",
      "0 =============== 2 ===============\n",
      "4987/4987 [==============================] - 88s 18ms/step - loss: 0.2232 - accuracy: 0.9485 - val_loss: 0.2283 - val_accuracy: 0.9473\n",
      "0 =============== 3 ===============\n",
      "6015/6015 [==============================] - 108s 18ms/step - loss: 0.1933 - accuracy: 0.9550 - val_loss: 0.1967 - val_accuracy: 0.9543\n",
      "1563/1563 [==============================] - 9s 6ms/step - loss: 1.6951 - accuracy: 0.6563\n"
     ]
    },
    {
     "name": "stderr",
     "output_type": "stream",
     "text": [
      " 10%|█         | 1/10 [06:13<56:05, 373.99s/it]"
     ]
    },
    {
     "name": "stdout",
     "output_type": "stream",
     "text": [
      "1 =============== 1 ===============\n",
      "4987/4987 [==============================] - 86s 17ms/step - loss: 0.0804 - accuracy: 0.9799 - val_loss: 0.1859 - val_accuracy: 0.9564\n",
      "1 =============== 2 ===============\n",
      "4987/4987 [==============================] - 91s 18ms/step - loss: 0.0762 - accuracy: 0.9811 - val_loss: 0.1824 - val_accuracy: 0.9582\n",
      "1 =============== 3 ===============\n",
      "6015/6015 [==============================] - 105s 17ms/step - loss: 0.0739 - accuracy: 0.9818 - val_loss: 0.1776 - val_accuracy: 0.9600\n",
      "1563/1563 [==============================] - 9s 6ms/step - loss: 1.8380 - accuracy: 0.6570\n"
     ]
    },
    {
     "name": "stderr",
     "output_type": "stream",
     "text": [
      " 20%|██        | 2/10 [12:25<49:45, 373.15s/it]"
     ]
    },
    {
     "name": "stdout",
     "output_type": "stream",
     "text": [
      "2 =============== 1 ===============\n",
      "4987/4987 [==============================] - 86s 17ms/step - loss: 0.0344 - accuracy: 0.9915 - val_loss: 0.1691 - val_accuracy: 0.9625\n",
      "2 =============== 2 ===============\n",
      "4987/4987 [==============================] - 91s 18ms/step - loss: 0.0333 - accuracy: 0.9917 - val_loss: 0.1709 - val_accuracy: 0.9628\n",
      "2 =============== 3 ===============\n",
      "6015/6015 [==============================] - 104s 17ms/step - loss: 0.0334 - accuracy: 0.9915 - val_loss: 0.1771 - val_accuracy: 0.9622\n",
      "1563/1563 [==============================] - 9s 6ms/step - loss: 1.9886 - accuracy: 0.6581\n"
     ]
    },
    {
     "name": "stderr",
     "output_type": "stream",
     "text": [
      " 30%|███       | 3/10 [18:34<43:24, 372.01s/it]"
     ]
    },
    {
     "name": "stdout",
     "output_type": "stream",
     "text": [
      "3 =============== 1 ===============\n",
      "4987/4987 [==============================] - 84s 17ms/step - loss: 0.0190 - accuracy: 0.9951 - val_loss: 0.1684 - val_accuracy: 0.9644\n",
      "3 =============== 2 ===============\n",
      "4987/4987 [==============================] - 85s 17ms/step - loss: 0.0185 - accuracy: 0.9951 - val_loss: 0.1715 - val_accuracy: 0.9644\n",
      "3 =============== 3 ===============\n",
      "6015/6015 [==============================] - 102s 17ms/step - loss: 0.0188 - accuracy: 0.9949 - val_loss: 0.1824 - val_accuracy: 0.9628\n",
      "1563/1563 [==============================] - 9s 6ms/step - loss: 2.1234 - accuracy: 0.6587\n"
     ]
    },
    {
     "name": "stderr",
     "output_type": "stream",
     "text": [
      " 40%|████      | 4/10 [24:32<36:47, 367.85s/it]"
     ]
    },
    {
     "name": "stdout",
     "output_type": "stream",
     "text": [
      "4 =============== 1 ===============\n",
      "4987/4987 [==============================] - 83s 17ms/step - loss: 0.0130 - accuracy: 0.9964 - val_loss: 0.1719 - val_accuracy: 0.9652\n",
      "4 =============== 2 ===============\n",
      "4987/4987 [==============================] - 86s 17ms/step - loss: 0.0126 - accuracy: 0.9964 - val_loss: 0.1757 - val_accuracy: 0.9651\n",
      "4 =============== 3 ===============\n",
      "6015/6015 [==============================] - 101s 17ms/step - loss: 0.0130 - accuracy: 0.9961 - val_loss: 0.1884 - val_accuracy: 0.9632\n",
      "1563/1563 [==============================] - 9s 6ms/step - loss: 2.2295 - accuracy: 0.6596\n"
     ]
    },
    {
     "name": "stderr",
     "output_type": "stream",
     "text": [
      " 50%|█████     | 5/10 [30:29<30:22, 364.60s/it]"
     ]
    },
    {
     "name": "stdout",
     "output_type": "stream",
     "text": [
      "5 =============== 1 ===============\n",
      "4987/4987 [==============================] - 83s 17ms/step - loss: 0.0103 - accuracy: 0.9968 - val_loss: 0.1761 - val_accuracy: 0.9656\n",
      "5 =============== 2 ===============\n",
      "4987/4987 [==============================] - 85s 17ms/step - loss: 0.0099 - accuracy: 0.9970 - val_loss: 0.1800 - val_accuracy: 0.9654\n",
      "5 =============== 3 ===============\n",
      "6015/6015 [==============================] - 106s 18ms/step - loss: 0.0103 - accuracy: 0.9967 - val_loss: 0.1936 - val_accuracy: 0.9634\n",
      "1563/1563 [==============================] - 9s 6ms/step - loss: 2.3091 - accuracy: 0.6597\n"
     ]
    },
    {
     "name": "stderr",
     "output_type": "stream",
     "text": [
      " 60%|██████    | 6/10 [36:32<24:15, 363.95s/it]"
     ]
    },
    {
     "name": "stdout",
     "output_type": "stream",
     "text": [
      "6 =============== 1 ===============\n",
      "4987/4987 [==============================] - 83s 17ms/step - loss: 0.0088 - accuracy: 0.9971 - val_loss: 0.1800 - val_accuracy: 0.9657\n",
      "6 =============== 2 ===============\n",
      "4987/4987 [==============================] - 85s 17ms/step - loss: 0.0084 - accuracy: 0.9973 - val_loss: 0.1838 - val_accuracy: 0.9655\n",
      "6 =============== 3 ===============\n",
      "6015/6015 [==============================] - 101s 17ms/step - loss: 0.0088 - accuracy: 0.9970 - val_loss: 0.1979 - val_accuracy: 0.9635\n",
      "1563/1563 [==============================] - 9s 6ms/step - loss: 2.3717 - accuracy: 0.6603\n"
     ]
    },
    {
     "name": "stderr",
     "output_type": "stream",
     "text": [
      " 70%|███████   | 7/10 [42:28<18:04, 361.59s/it]"
     ]
    },
    {
     "name": "stdout",
     "output_type": "stream",
     "text": [
      "7 =============== 1 ===============\n",
      "4987/4987 [==============================] - 83s 17ms/step - loss: 0.0078 - accuracy: 0.9973 - val_loss: 0.1832 - val_accuracy: 0.9658\n",
      "7 =============== 2 ===============\n",
      "4987/4987 [==============================] - 86s 17ms/step - loss: 0.0074 - accuracy: 0.9974 - val_loss: 0.1871 - val_accuracy: 0.9657\n",
      "7 =============== 3 ===============\n",
      "6015/6015 [==============================] - 106s 18ms/step - loss: 0.0078 - accuracy: 0.9972 - val_loss: 0.2016 - val_accuracy: 0.9635\n",
      "1563/1563 [==============================] - 9s 6ms/step - loss: 2.4222 - accuracy: 0.6604\n"
     ]
    },
    {
     "name": "stderr",
     "output_type": "stream",
     "text": [
      " 80%|████████  | 8/10 [48:30<12:03, 361.93s/it]"
     ]
    },
    {
     "name": "stdout",
     "output_type": "stream",
     "text": [
      "8 =============== 1 ===============\n",
      "4987/4987 [==============================] - 83s 17ms/step - loss: 0.0071 - accuracy: 0.9974 - val_loss: 0.1861 - val_accuracy: 0.9659\n",
      "8 =============== 2 ===============\n",
      "4987/4987 [==============================] - 86s 17ms/step - loss: 0.0068 - accuracy: 0.9976 - val_loss: 0.1899 - val_accuracy: 0.9657\n",
      "8 =============== 3 ===============\n",
      "6015/6015 [==============================] - 106s 18ms/step - loss: 0.0071 - accuracy: 0.9973 - val_loss: 0.2047 - val_accuracy: 0.9635\n",
      "1563/1563 [==============================] - 9s 6ms/step - loss: 2.4638 - accuracy: 0.6606\n"
     ]
    },
    {
     "name": "stderr",
     "output_type": "stream",
     "text": [
      " 90%|█████████ | 9/10 [54:32<06:01, 361.96s/it]"
     ]
    },
    {
     "name": "stdout",
     "output_type": "stream",
     "text": [
      "9 =============== 1 ===============\n",
      "4987/4987 [==============================] - 83s 17ms/step - loss: 0.0066 - accuracy: 0.9976 - val_loss: 0.1885 - val_accuracy: 0.9659\n",
      "9 =============== 2 ===============\n",
      "4987/4987 [==============================] - 85s 17ms/step - loss: 0.0063 - accuracy: 0.9977 - val_loss: 0.1924 - val_accuracy: 0.9658\n",
      "9 =============== 3 ===============\n",
      "6015/6015 [==============================] - 100s 17ms/step - loss: 0.0066 - accuracy: 0.9975 - val_loss: 0.2075 - val_accuracy: 0.9634\n",
      "1563/1563 [==============================] - 9s 6ms/step - loss: 2.5004 - accuracy: 0.6606\n"
     ]
    },
    {
     "name": "stderr",
     "output_type": "stream",
     "text": [
      "100%|██████████| 10/10 [1:00:31<00:00, 363.18s/it]\n"
     ]
    },
    {
     "name": "stdout",
     "output_type": "stream",
     "text": [
      "0.8 starting\n",
      "WARNING:tensorflow:No training configuration found in the save file, so the model was *not* compiled. Compile it manually.\n"
     ]
    },
    {
     "name": "stderr",
     "output_type": "stream",
     "text": [
      "  0%|          | 0/10 [00:00<?, ?it/s]"
     ]
    },
    {
     "name": "stdout",
     "output_type": "stream",
     "text": [
      "Model: \"sequential_4\"\n",
      "_________________________________________________________________\n",
      "Layer (type)                 Output Shape              Param #   \n",
      "=================================================================\n",
      "flatten (Flatten)            (None, 25088)             0         \n",
      "_________________________________________________________________\n",
      "fc1 (Dense)                  (None, 4096)              102764544 \n",
      "_________________________________________________________________\n",
      "fc2 (Dense)                  (None, 4096)              16781312  \n",
      "_________________________________________________________________\n",
      "predictions (Dense)          (None, 1000)              4097000   \n",
      "=================================================================\n",
      "Total params: 123,642,856\n",
      "Trainable params: 123,642,856\n",
      "Non-trainable params: 0\n",
      "_________________________________________________________________\n",
      "0 =============== 1 ===============\n",
      "4987/4987 [==============================] - 83s 17ms/step - loss: 0.2751 - accuracy: 0.9394 - val_loss: 0.2555 - val_accuracy: 0.9410\n",
      "0 =============== 2 ===============\n",
      "4987/4987 [==============================] - 82s 17ms/step - loss: 0.2157 - accuracy: 0.9502 - val_loss: 0.2206 - val_accuracy: 0.9491\n",
      "0 =============== 3 ===============\n",
      "6015/6015 [==============================] - 105s 18ms/step - loss: 0.1808 - accuracy: 0.9580 - val_loss: 0.1837 - val_accuracy: 0.9573\n",
      "1563/1563 [==============================] - 9s 6ms/step - loss: 1.6982 - accuracy: 0.6564\n"
     ]
    },
    {
     "name": "stderr",
     "output_type": "stream",
     "text": [
      " 10%|█         | 1/10 [06:07<55:08, 367.64s/it]"
     ]
    },
    {
     "name": "stdout",
     "output_type": "stream",
     "text": [
      "1 =============== 1 ===============\n",
      "4987/4987 [==============================] - 84s 17ms/step - loss: 0.0548 - accuracy: 0.9858 - val_loss: 0.1726 - val_accuracy: 0.9602\n",
      "1 =============== 2 ===============\n",
      "4987/4987 [==============================] - 85s 17ms/step - loss: 0.0503 - accuracy: 0.9870 - val_loss: 0.1708 - val_accuracy: 0.9613\n",
      "1 =============== 3 ===============\n",
      "6015/6015 [==============================] - 100s 17ms/step - loss: 0.0486 - accuracy: 0.9872 - val_loss: 0.1717 - val_accuracy: 0.9624\n",
      "1563/1563 [==============================] - 9s 6ms/step - loss: 1.8993 - accuracy: 0.6581\n"
     ]
    },
    {
     "name": "stderr",
     "output_type": "stream",
     "text": [
      " 20%|██        | 2/10 [12:04<48:35, 364.44s/it]"
     ]
    },
    {
     "name": "stdout",
     "output_type": "stream",
     "text": [
      "2 =============== 1 ===============\n",
      "4987/4987 [==============================] - 83s 17ms/step - loss: 0.0201 - accuracy: 0.9946 - val_loss: 0.1652 - val_accuracy: 0.9646\n",
      "2 =============== 2 ===============\n",
      "4987/4987 [==============================] - 84s 17ms/step - loss: 0.0188 - accuracy: 0.9947 - val_loss: 0.1684 - val_accuracy: 0.9646\n",
      "2 =============== 3 ===============\n",
      "6015/6015 [==============================] - 99s 17ms/step - loss: 0.0188 - accuracy: 0.9945 - val_loss: 0.1798 - val_accuracy: 0.9632\n",
      "1563/1563 [==============================] - 10s 6ms/step - loss: 2.1032 - accuracy: 0.6590\n"
     ]
    },
    {
     "name": "stderr",
     "output_type": "stream",
     "text": [
      " 30%|███       | 3/10 [17:58<42:09, 361.34s/it]"
     ]
    },
    {
     "name": "stdout",
     "output_type": "stream",
     "text": [
      "3 =============== 1 ===============\n",
      "4987/4987 [==============================] - 83s 17ms/step - loss: 0.0119 - accuracy: 0.9963 - val_loss: 0.1711 - val_accuracy: 0.9656\n",
      "3 =============== 2 ===============\n",
      "4987/4987 [==============================] - 84s 17ms/step - loss: 0.0113 - accuracy: 0.9963 - val_loss: 0.1752 - val_accuracy: 0.9655\n",
      "3 =============== 3 ===============\n",
      "6015/6015 [==============================] - 101s 17ms/step - loss: 0.0117 - accuracy: 0.9960 - val_loss: 0.1888 - val_accuracy: 0.9635\n",
      "1563/1563 [==============================] - 9s 6ms/step - loss: 2.2440 - accuracy: 0.6602\n"
     ]
    },
    {
     "name": "stderr",
     "output_type": "stream",
     "text": [
      " 40%|████      | 4/10 [23:53<35:57, 359.51s/it]"
     ]
    },
    {
     "name": "stdout",
     "output_type": "stream",
     "text": [
      "4 =============== 1 ===============\n",
      "4987/4987 [==============================] - 84s 17ms/step - loss: 0.0093 - accuracy: 0.9967 - val_loss: 0.1776 - val_accuracy: 0.9660\n",
      "4 =============== 2 ===============\n",
      "4987/4987 [==============================] - 85s 17ms/step - loss: 0.0088 - accuracy: 0.9968 - val_loss: 0.1814 - val_accuracy: 0.9657\n",
      "4 =============== 3 ===============\n",
      "6015/6015 [==============================] - 100s 17ms/step - loss: 0.0093 - accuracy: 0.9966 - val_loss: 0.1953 - val_accuracy: 0.9636\n",
      "1563/1563 [==============================] - 9s 6ms/step - loss: 2.3353 - accuracy: 0.6605\n"
     ]
    },
    {
     "name": "stderr",
     "output_type": "stream",
     "text": [
      " 50%|█████     | 5/10 [29:51<29:54, 358.82s/it]"
     ]
    },
    {
     "name": "stdout",
     "output_type": "stream",
     "text": [
      "5 =============== 1 ===============\n",
      "4987/4987 [==============================] - 82s 17ms/step - loss: 0.0080 - accuracy: 0.9970 - val_loss: 0.1824 - val_accuracy: 0.9660\n",
      "5 =============== 2 ===============\n",
      "4987/4987 [==============================] - 85s 17ms/step - loss: 0.0075 - accuracy: 0.9971 - val_loss: 0.1862 - val_accuracy: 0.9658\n",
      "5 =============== 3 ===============\n",
      "6015/6015 [==============================] - 101s 17ms/step - loss: 0.0080 - accuracy: 0.9969 - val_loss: 0.2002 - val_accuracy: 0.9636\n",
      "1563/1563 [==============================] - 10s 6ms/step - loss: 2.4010 - accuracy: 0.6603\n"
     ]
    },
    {
     "name": "stderr",
     "output_type": "stream",
     "text": [
      " 60%|██████    | 6/10 [35:46<23:50, 357.74s/it]"
     ]
    },
    {
     "name": "stdout",
     "output_type": "stream",
     "text": [
      "6 =============== 1 ===============\n",
      "4987/4987 [==============================] - 83s 17ms/step - loss: 0.0072 - accuracy: 0.9972 - val_loss: 0.1861 - val_accuracy: 0.9661\n",
      "6 =============== 2 ===============\n",
      "4987/4987 [==============================] - 85s 17ms/step - loss: 0.0067 - accuracy: 0.9973 - val_loss: 0.1902 - val_accuracy: 0.9659\n",
      "6 =============== 3 ===============\n",
      "6015/6015 [==============================] - 101s 17ms/step - loss: 0.0072 - accuracy: 0.9970 - val_loss: 0.2042 - val_accuracy: 0.9637\n",
      "1563/1563 [==============================] - 9s 6ms/step - loss: 2.4529 - accuracy: 0.6608\n"
     ]
    },
    {
     "name": "stderr",
     "output_type": "stream",
     "text": [
      " 70%|███████   | 7/10 [41:42<17:52, 357.34s/it]"
     ]
    },
    {
     "name": "stdout",
     "output_type": "stream",
     "text": [
      "7 =============== 1 ===============\n",
      "4987/4987 [==============================] - 82s 16ms/step - loss: 0.0067 - accuracy: 0.9973 - val_loss: 0.1891 - val_accuracy: 0.9662\n",
      "7 =============== 2 ===============\n",
      "4987/4987 [==============================] - 89s 18ms/step - loss: 0.0062 - accuracy: 0.9974 - val_loss: 0.1933 - val_accuracy: 0.9658\n",
      "7 =============== 3 ===============\n",
      "6015/6015 [==============================] - 99s 17ms/step - loss: 0.0067 - accuracy: 0.9971 - val_loss: 0.2077 - val_accuracy: 0.9637\n",
      "1563/1563 [==============================] - 10s 6ms/step - loss: 2.4966 - accuracy: 0.6611\n"
     ]
    },
    {
     "name": "stderr",
     "output_type": "stream",
     "text": [
      " 80%|████████  | 8/10 [47:41<11:55, 357.72s/it]"
     ]
    },
    {
     "name": "stdout",
     "output_type": "stream",
     "text": [
      "8 =============== 1 ===============\n",
      "4987/4987 [==============================] - 83s 17ms/step - loss: 0.0062 - accuracy: 0.9974 - val_loss: 0.1916 - val_accuracy: 0.9662\n",
      "8 =============== 2 ===============\n",
      "4987/4987 [==============================] - 84s 17ms/step - loss: 0.0058 - accuracy: 0.9976 - val_loss: 0.1961 - val_accuracy: 0.9658\n",
      "8 =============== 3 ===============\n",
      "6015/6015 [==============================] - 100s 17ms/step - loss: 0.0062 - accuracy: 0.9973 - val_loss: 0.2108 - val_accuracy: 0.9637\n",
      "1563/1563 [==============================] - 9s 6ms/step - loss: 2.5344 - accuracy: 0.6611\n"
     ]
    },
    {
     "name": "stderr",
     "output_type": "stream",
     "text": [
      " 90%|█████████ | 9/10 [53:36<05:56, 356.79s/it]"
     ]
    },
    {
     "name": "stdout",
     "output_type": "stream",
     "text": [
      "9 =============== 1 ===============\n",
      "4987/4987 [==============================] - 82s 16ms/step - loss: 0.0059 - accuracy: 0.9975 - val_loss: 0.1938 - val_accuracy: 0.9662\n",
      "9 =============== 2 ===============\n",
      "4987/4987 [==============================] - 85s 17ms/step - loss: 0.0055 - accuracy: 0.9977 - val_loss: 0.1984 - val_accuracy: 0.9659\n",
      "9 =============== 3 ===============\n",
      "6015/6015 [==============================] - 100s 17ms/step - loss: 0.0059 - accuracy: 0.9974 - val_loss: 0.2135 - val_accuracy: 0.9637\n",
      "1563/1563 [==============================] - 9s 6ms/step - loss: 2.5671 - accuracy: 0.6611\n"
     ]
    },
    {
     "name": "stderr",
     "output_type": "stream",
     "text": [
      "100%|██████████| 10/10 [59:33<00:00, 357.35s/it]\n"
     ]
    },
    {
     "name": "stdout",
     "output_type": "stream",
     "text": [
      "0.9 starting\n",
      "WARNING:tensorflow:No training configuration found in the save file, so the model was *not* compiled. Compile it manually.\n"
     ]
    },
    {
     "name": "stderr",
     "output_type": "stream",
     "text": [
      "  0%|          | 0/10 [00:00<?, ?it/s]"
     ]
    },
    {
     "name": "stdout",
     "output_type": "stream",
     "text": [
      "Model: \"sequential_4\"\n",
      "_________________________________________________________________\n",
      "Layer (type)                 Output Shape              Param #   \n",
      "=================================================================\n",
      "flatten (Flatten)            (None, 25088)             0         \n",
      "_________________________________________________________________\n",
      "fc1 (Dense)                  (None, 4096)              102764544 \n",
      "_________________________________________________________________\n",
      "fc2 (Dense)                  (None, 4096)              16781312  \n",
      "_________________________________________________________________\n",
      "predictions (Dense)          (None, 1000)              4097000   \n",
      "=================================================================\n",
      "Total params: 123,642,856\n",
      "Trainable params: 123,642,856\n",
      "Non-trainable params: 0\n",
      "_________________________________________________________________\n",
      "0 =============== 1 ===============\n",
      "4987/4987 [==============================] - 82s 16ms/step - loss: 0.2762 - accuracy: 0.9384 - val_loss: 0.2623 - val_accuracy: 0.9404\n",
      "0 =============== 2 ===============\n",
      "4987/4987 [==============================] - 84s 17ms/step - loss: 0.2122 - accuracy: 0.9518 - val_loss: 0.2165 - val_accuracy: 0.9506\n",
      "0 =============== 3 ===============\n",
      "6015/6015 [==============================] - 106s 18ms/step - loss: 0.1704 - accuracy: 0.9613 - val_loss: 0.1729 - val_accuracy: 0.9602\n",
      "1563/1563 [==============================] - 10s 6ms/step - loss: 1.7158 - accuracy: 0.6553\n"
     ]
    },
    {
     "name": "stderr",
     "output_type": "stream",
     "text": [
      " 10%|█         | 1/10 [06:10<55:33, 370.38s/it]"
     ]
    },
    {
     "name": "stdout",
     "output_type": "stream",
     "text": [
      "1 =============== 1 ===============\n",
      "4987/4987 [==============================] - 84s 17ms/step - loss: 0.0291 - accuracy: 0.9916 - val_loss: 0.1621 - val_accuracy: 0.9638\n",
      "1 =============== 2 ===============\n",
      "4987/4987 [==============================] - 86s 17ms/step - loss: 0.0239 - accuracy: 0.9930 - val_loss: 0.1635 - val_accuracy: 0.9642\n",
      "1 =============== 3 ===============\n",
      "6015/6015 [==============================] - 100s 17ms/step - loss: 0.0226 - accuracy: 0.9932 - val_loss: 0.1756 - val_accuracy: 0.9634\n",
      "1563/1563 [==============================] - 9s 6ms/step - loss: 2.0268 - accuracy: 0.6590\n"
     ]
    },
    {
     "name": "stderr",
     "output_type": "stream",
     "text": [
      " 20%|██        | 2/10 [12:07<48:51, 366.47s/it]"
     ]
    },
    {
     "name": "stdout",
     "output_type": "stream",
     "text": [
      "2 =============== 1 ===============\n",
      "4987/4987 [==============================] - 83s 17ms/step - loss: 0.0116 - accuracy: 0.9959 - val_loss: 0.1701 - val_accuracy: 0.9661\n",
      "2 =============== 2 ===============\n",
      "4987/4987 [==============================] - 84s 17ms/step - loss: 0.0106 - accuracy: 0.9961 - val_loss: 0.1733 - val_accuracy: 0.9658\n",
      "2 =============== 3 ===============\n",
      "6015/6015 [==============================] - 101s 17ms/step - loss: 0.0111 - accuracy: 0.9958 - val_loss: 0.1884 - val_accuracy: 0.9637\n",
      "1563/1563 [==============================] - 9s 6ms/step - loss: 2.2193 - accuracy: 0.6611\n"
     ]
    },
    {
     "name": "stderr",
     "output_type": "stream",
     "text": [
      " 30%|███       | 3/10 [18:03<42:22, 363.15s/it]"
     ]
    },
    {
     "name": "stdout",
     "output_type": "stream",
     "text": [
      "3 =============== 1 ===============\n",
      "4987/4987 [==============================] - 83s 17ms/step - loss: 0.0090 - accuracy: 0.9963 - val_loss: 0.1808 - val_accuracy: 0.9663\n",
      "3 =============== 2 ===============\n",
      "4987/4987 [==============================] - 85s 17ms/step - loss: 0.0083 - accuracy: 0.9964 - val_loss: 0.1823 - val_accuracy: 0.9659\n",
      "3 =============== 3 ===============\n",
      "6015/6015 [==============================] - 105s 17ms/step - loss: 0.0089 - accuracy: 0.9962 - val_loss: 0.1960 - val_accuracy: 0.9636\n",
      "1563/1563 [==============================] - 9s 6ms/step - loss: 2.3195 - accuracy: 0.6617\n"
     ]
    },
    {
     "name": "stderr",
     "output_type": "stream",
     "text": [
      " 40%|████      | 4/10 [24:03<36:13, 362.32s/it]"
     ]
    },
    {
     "name": "stdout",
     "output_type": "stream",
     "text": [
      "4 =============== 1 ===============\n",
      "4987/4987 [==============================] - 82s 16ms/step - loss: 0.0079 - accuracy: 0.9965 - val_loss: 0.1866 - val_accuracy: 0.9664\n",
      "4 =============== 2 ===============\n",
      "4987/4987 [==============================] - 85s 17ms/step - loss: 0.0072 - accuracy: 0.9966 - val_loss: 0.1888 - val_accuracy: 0.9659\n",
      "4 =============== 3 ===============\n",
      "6015/6015 [==============================] - 105s 18ms/step - loss: 0.0079 - accuracy: 0.9964 - val_loss: 0.2006 - val_accuracy: 0.9636\n",
      "1563/1563 [==============================] - 9s 6ms/step - loss: 2.3784 - accuracy: 0.6623\n"
     ]
    },
    {
     "name": "stderr",
     "output_type": "stream",
     "text": [
      " 50%|█████     | 5/10 [30:04<30:09, 361.96s/it]"
     ]
    },
    {
     "name": "stdout",
     "output_type": "stream",
     "text": [
      "5 =============== 1 ===============\n",
      "4987/4987 [==============================] - 84s 17ms/step - loss: 0.0072 - accuracy: 0.9967 - val_loss: 0.1902 - val_accuracy: 0.9664\n",
      "5 =============== 2 ===============\n",
      "4987/4987 [==============================] - 86s 17ms/step - loss: 0.0065 - accuracy: 0.9969 - val_loss: 0.1945 - val_accuracy: 0.9660\n",
      "5 =============== 3 ===============\n",
      "6015/6015 [==============================] - 102s 17ms/step - loss: 0.0072 - accuracy: 0.9966 - val_loss: 0.2046 - val_accuracy: 0.9635\n",
      "1563/1563 [==============================] - 10s 6ms/step - loss: 2.4267 - accuracy: 0.6621\n"
     ]
    },
    {
     "name": "stderr",
     "output_type": "stream",
     "text": [
      " 60%|██████    | 6/10 [36:05<24:06, 361.56s/it]"
     ]
    },
    {
     "name": "stdout",
     "output_type": "stream",
     "text": [
      "6 =============== 1 ===============\n",
      "4987/4987 [==============================] - 83s 17ms/step - loss: 0.0066 - accuracy: 0.9969 - val_loss: 0.1922 - val_accuracy: 0.9665\n",
      "6 =============== 2 ===============\n",
      "4987/4987 [==============================] - 85s 17ms/step - loss: 0.0060 - accuracy: 0.9970 - val_loss: 0.1996 - val_accuracy: 0.9659\n",
      "6 =============== 3 ===============\n",
      "6015/6015 [==============================] - 100s 17ms/step - loss: 0.0066 - accuracy: 0.9967 - val_loss: 0.2082 - val_accuracy: 0.9635\n",
      "1563/1563 [==============================] - 9s 6ms/step - loss: 2.4696 - accuracy: 0.6620\n"
     ]
    },
    {
     "name": "stderr",
     "output_type": "stream",
     "text": [
      " 70%|███████   | 7/10 [42:00<17:58, 359.52s/it]"
     ]
    },
    {
     "name": "stdout",
     "output_type": "stream",
     "text": [
      "7 =============== 1 ===============\n",
      "4987/4987 [==============================] - 83s 17ms/step - loss: 0.0062 - accuracy: 0.9970 - val_loss: 0.1934 - val_accuracy: 0.9665\n",
      "7 =============== 2 ===============\n",
      "4987/4987 [==============================] - 86s 17ms/step - loss: 0.0056 - accuracy: 0.9972 - val_loss: 0.2038 - val_accuracy: 0.9661\n",
      "7 =============== 3 ===============\n",
      "6015/6015 [==============================] - 105s 17ms/step - loss: 0.0061 - accuracy: 0.9969 - val_loss: 0.2118 - val_accuracy: 0.9635\n",
      "1563/1563 [==============================] - 10s 6ms/step - loss: 2.5120 - accuracy: 0.6620\n"
     ]
    },
    {
     "name": "stderr",
     "output_type": "stream",
     "text": [
      " 80%|████████  | 8/10 [48:02<12:00, 360.33s/it]"
     ]
    },
    {
     "name": "stdout",
     "output_type": "stream",
     "text": [
      "8 =============== 1 ===============\n",
      "4987/4987 [==============================] - 82s 17ms/step - loss: 0.0058 - accuracy: 0.9971 - val_loss: 0.1942 - val_accuracy: 0.9664\n",
      "8 =============== 2 ===============\n",
      "4987/4987 [==============================] - 89s 18ms/step - loss: 0.0053 - accuracy: 0.9973 - val_loss: 0.2069 - val_accuracy: 0.9661\n",
      "8 =============== 3 ===============\n",
      "6015/6015 [==============================] - 104s 17ms/step - loss: 0.0057 - accuracy: 0.9970 - val_loss: 0.2156 - val_accuracy: 0.9635\n",
      "1563/1563 [==============================] - 10s 6ms/step - loss: 2.5569 - accuracy: 0.6620\n"
     ]
    },
    {
     "name": "stderr",
     "output_type": "stream",
     "text": [
      " 90%|█████████ | 9/10 [54:06<06:01, 361.62s/it]"
     ]
    },
    {
     "name": "stdout",
     "output_type": "stream",
     "text": [
      "9 =============== 1 ===============\n",
      "4987/4987 [==============================] - 82s 17ms/step - loss: 0.0055 - accuracy: 0.9972 - val_loss: 0.1947 - val_accuracy: 0.9664\n",
      "9 =============== 2 ===============\n",
      "4987/4987 [==============================] - 85s 17ms/step - loss: 0.0051 - accuracy: 0.9974 - val_loss: 0.2090 - val_accuracy: 0.9661\n",
      "9 =============== 3 ===============\n",
      "6015/6015 [==============================] - 102s 17ms/step - loss: 0.0054 - accuracy: 0.9972 - val_loss: 0.2199 - val_accuracy: 0.9635\n",
      "1563/1563 [==============================] - 9s 6ms/step - loss: 2.6073 - accuracy: 0.6623\n"
     ]
    },
    {
     "name": "stderr",
     "output_type": "stream",
     "text": [
      "100%|██████████| 10/10 [1:00:07<00:00, 360.79s/it]\n"
     ]
    },
    {
     "name": "stdout",
     "output_type": "stream",
     "text": [
      "1.0 starting\n",
      "WARNING:tensorflow:No training configuration found in the save file, so the model was *not* compiled. Compile it manually.\n"
     ]
    },
    {
     "name": "stderr",
     "output_type": "stream",
     "text": [
      "  0%|          | 0/10 [00:00<?, ?it/s]"
     ]
    },
    {
     "name": "stdout",
     "output_type": "stream",
     "text": [
      "Model: \"sequential_4\"\n",
      "_________________________________________________________________\n",
      "Layer (type)                 Output Shape              Param #   \n",
      "=================================================================\n",
      "flatten (Flatten)            (None, 25088)             0         \n",
      "_________________________________________________________________\n",
      "fc1 (Dense)                  (None, 4096)              102764544 \n",
      "_________________________________________________________________\n",
      "fc2 (Dense)                  (None, 4096)              16781312  \n",
      "_________________________________________________________________\n",
      "predictions (Dense)          (None, 1000)              4097000   \n",
      "=================================================================\n",
      "Total params: 123,642,856\n",
      "Trainable params: 123,642,856\n",
      "Non-trainable params: 0\n",
      "_________________________________________________________________\n",
      "0 =============== 1 ===============\n",
      "4987/4987 [==============================] - 86s 17ms/step - loss: 6.4055 - accuracy: 0.0688 - val_loss: 6.9404 - val_accuracy: 8.8990e-04\n",
      "0 =============== 2 ===============\n",
      "4987/4987 [==============================] - 83s 17ms/step - loss: 18.8495 - accuracy: 9.7756e-04 - val_loss: 7.1139 - val_accuracy: 0.0011\n",
      "0 =============== 3 ===============\n",
      "6015/6015 [==============================] - 106s 18ms/step - loss: 12.1875 - accuracy: 0.0010 - val_loss: 6.9564 - val_accuracy: 9.8718e-04\n",
      "1563/1563 [==============================] - 10s 6ms/step - loss: 6.9601 - accuracy: 0.0010\n"
     ]
    },
    {
     "name": "stderr",
     "output_type": "stream",
     "text": [
      " 10%|█         | 1/10 [06:09<55:23, 369.31s/it]"
     ]
    },
    {
     "name": "stdout",
     "output_type": "stream",
     "text": [
      "1 =============== 1 ===============\n",
      "4987/4987 [==============================] - 83s 17ms/step - loss: 6.9597 - accuracy: 5.9223e-04 - val_loss: 6.9530 - val_accuracy: 0.0000e+00\n",
      "1 =============== 2 ===============\n",
      "4987/4987 [==============================] - 88s 18ms/step - loss: 13.7208 - accuracy: 7.6764e-04 - val_loss: 6.9666 - val_accuracy: 9.9009e-04\n",
      "1 =============== 3 ===============\n",
      "6015/6015 [==============================] - 104s 17ms/step - loss: 30.2276 - accuracy: 9.5081e-04 - val_loss: 7.0224 - val_accuracy: 0.0011\n",
      "1563/1563 [==============================] - 9s 6ms/step - loss: 7.0219 - accuracy: 0.0010\n"
     ]
    },
    {
     "name": "stderr",
     "output_type": "stream",
     "text": [
      " 20%|██        | 2/10 [12:12<49:00, 367.55s/it]"
     ]
    },
    {
     "name": "stdout",
     "output_type": "stream",
     "text": [
      "2 =============== 1 ===============\n",
      "4987/4987 [==============================] - 83s 17ms/step - loss: 6.9929 - accuracy: 8.5858e-04 - val_loss: 6.9765 - val_accuracy: 9.0244e-04\n",
      "2 =============== 2 ===============\n",
      "4987/4987 [==============================] - 86s 17ms/step - loss: 6.9850 - accuracy: 7.1437e-04 - val_loss: 6.9669 - val_accuracy: 3.7598e-04\n",
      "2 =============== 3 ===============\n",
      "6015/6015 [==============================] - 105s 17ms/step - loss: 6.9787 - accuracy: 9.1185e-04 - val_loss: 6.9635 - val_accuracy: 0.0010\n",
      "1563/1563 [==============================] - 9s 6ms/step - loss: 6.9669 - accuracy: 0.0010\n"
     ]
    },
    {
     "name": "stderr",
     "output_type": "stream",
     "text": [
      " 30%|███       | 3/10 [18:13<42:39, 365.62s/it]"
     ]
    },
    {
     "name": "stdout",
     "output_type": "stream",
     "text": [
      "3 =============== 1 ===============\n",
      "4987/4987 [==============================] - 84s 17ms/step - loss: 6.9554 - accuracy: 0.0011 - val_loss: 6.9432 - val_accuracy: 0.0011\n",
      "3 =============== 2 ===============\n",
      "4987/4987 [==============================] - 85s 17ms/step - loss: 6.9414 - accuracy: 9.8383e-04 - val_loss: 6.9320 - val_accuracy: 0.0011\n",
      "3 =============== 3 ===============\n",
      "6015/6015 [==============================] - 100s 17ms/step - loss: 6.9411 - accuracy: 9.7679e-04 - val_loss: 6.9359 - val_accuracy: 0.0011\n",
      "1563/1563 [==============================] - 9s 6ms/step - loss: 6.9403 - accuracy: 0.0010\n"
     ]
    },
    {
     "name": "stderr",
     "output_type": "stream",
     "text": [
      " 40%|████      | 4/10 [24:10<36:16, 362.82s/it]"
     ]
    },
    {
     "name": "stdout",
     "output_type": "stream",
     "text": [
      "4 =============== 1 ===============\n",
      "4987/4987 [==============================] - 83s 17ms/step - loss: 6.9268 - accuracy: 8.5858e-04 - val_loss: 6.9360 - val_accuracy: 0.0000e+00\n",
      "4 =============== 2 ===============\n",
      "4987/4987 [==============================] - 86s 17ms/step - loss: 54.3895 - accuracy: 6.6111e-04 - val_loss: 6.9414 - val_accuracy: 9.9009e-04\n",
      "4 =============== 3 ===============\n",
      "6015/6015 [==============================] - 102s 17ms/step - loss: 6.9602 - accuracy: 9.1964e-04 - val_loss: 6.9652 - val_accuracy: 9.8718e-04\n",
      "1563/1563 [==============================] - 9s 6ms/step - loss: 6.9662 - accuracy: 0.0010\n"
     ]
    },
    {
     "name": "stderr",
     "output_type": "stream",
     "text": [
      " 50%|█████     | 5/10 [30:08<30:07, 361.50s/it]"
     ]
    },
    {
     "name": "stdout",
     "output_type": "stream",
     "text": [
      "5 =============== 1 ===============\n",
      "4987/4987 [==============================] - 88s 18ms/step - loss: 6.9568 - accuracy: 8.1157e-04 - val_loss: 6.9605 - val_accuracy: 1.3787e-04\n",
      "5 =============== 2 ===============\n",
      "4987/4987 [==============================] - 89s 18ms/step - loss: 135412.1406 - accuracy: 8.5537e-04 - val_loss: 871.7313 - val_accuracy: 0.0010\n",
      "5 =============== 3 ===============\n",
      "6015/6015 [==============================] - 104s 17ms/step - loss: 25737.7090 - accuracy: 8.8327e-04 - val_loss: 6.9756 - val_accuracy: 9.2483e-04\n",
      "1563/1563 [==============================] - 10s 6ms/step - loss: 6.9781 - accuracy: 0.0010\n"
     ]
    },
    {
     "name": "stderr",
     "output_type": "stream",
     "text": [
      " 60%|██████    | 6/10 [36:19<24:16, 364.22s/it]"
     ]
    },
    {
     "name": "stdout",
     "output_type": "stream",
     "text": [
      "6 =============== 1 ===============\n",
      "4987/4987 [==============================] - 83s 17ms/step - loss: 1009.1116 - accuracy: 6.7057e-04 - val_loss: 6.9510 - val_accuracy: 9.0244e-04\n",
      "6 =============== 2 ===============\n",
      "4987/4987 [==============================] - 86s 17ms/step - loss: 6141511.0000 - accuracy: 9.4623e-04 - val_loss: 6.9444 - val_accuracy: 0.0012\n",
      "6 =============== 3 ===============\n",
      "6015/6015 [==============================] - 106s 18ms/step - loss: 4268425.5000 - accuracy: 9.9498e-04 - val_loss: 6.9652 - val_accuracy: 0.0011\n",
      "1563/1563 [==============================] - 9s 6ms/step - loss: 6.9688 - accuracy: 0.0010\n"
     ]
    },
    {
     "name": "stderr",
     "output_type": "stream",
     "text": [
      " 70%|███████   | 7/10 [42:22<18:11, 363.92s/it]"
     ]
    },
    {
     "name": "stdout",
     "output_type": "stream",
     "text": [
      "7 =============== 1 ===============\n",
      "4987/4987 [==============================] - 87s 18ms/step - loss: 879285.0000 - accuracy: 9.9018e-04 - val_loss: 6.9437 - val_accuracy: 0.0011\n",
      "7 =============== 2 ===============\n",
      "4987/4987 [==============================] - 90s 18ms/step - loss: 156097.2344 - accuracy: 6.7364e-04 - val_loss: 6.9401 - val_accuracy: 0.0011\n",
      "7 =============== 3 ===============\n",
      "6015/6015 [==============================] - 106s 18ms/step - loss: 6.9503 - accuracy: 9.3523e-04 - val_loss: 6.9526 - val_accuracy: 8.4170e-04\n",
      "1563/1563 [==============================] - 9s 6ms/step - loss: 6.9549 - accuracy: 0.0010\n"
     ]
    },
    {
     "name": "stderr",
     "output_type": "stream",
     "text": [
      " 80%|████████  | 8/10 [48:34<12:12, 366.33s/it]"
     ]
    },
    {
     "name": "stdout",
     "output_type": "stream",
     "text": [
      "8 =============== 1 ===============\n",
      "4987/4987 [==============================] - 84s 17ms/step - loss: 6.9456 - accuracy: 6.9563e-04 - val_loss: 6.9483 - val_accuracy: 0.0011\n",
      "8 =============== 2 ===============\n",
      "4987/4987 [==============================] - 89s 18ms/step - loss: 2374881.7500 - accuracy: 9.3996e-04 - val_loss: 6.9571 - val_accuracy: 0.0010\n",
      "8 =============== 3 ===============\n",
      "6015/6015 [==============================] - 103s 17ms/step - loss: 6.9794 - accuracy: 9.8718e-04 - val_loss: 6.9773 - val_accuracy: 9.8718e-04\n",
      "1563/1563 [==============================] - 9s 6ms/step - loss: 6.9801 - accuracy: 0.0010\n"
     ]
    },
    {
     "name": "stderr",
     "output_type": "stream",
     "text": [
      " 90%|█████████ | 9/10 [54:39<06:05, 365.90s/it]"
     ]
    },
    {
     "name": "stdout",
     "output_type": "stream",
     "text": [
      "9 =============== 1 ===============\n",
      "4987/4987 [==============================] - 83s 17ms/step - loss: 6.9637 - accuracy: 9.0871e-04 - val_loss: 6.9516 - val_accuracy: 9.0244e-04\n",
      "9 =============== 2 ===============\n",
      "4987/4987 [==============================] - 89s 18ms/step - loss: 6.9604 - accuracy: 0.0010 - val_loss: 6.9535 - val_accuracy: 9.0236e-04\n",
      "9 =============== 3 ===============\n",
      "6015/6015 [==============================] - 106s 18ms/step - loss: 6.9842 - accuracy: 0.0010 - val_loss: 6.9755 - val_accuracy: 9.7679e-04\n",
      "1563/1563 [==============================] - 9s 6ms/step - loss: 6.9784 - accuracy: 0.0010\n"
     ]
    },
    {
     "name": "stderr",
     "output_type": "stream",
     "text": [
      "100%|██████████| 10/10 [1:00:49<00:00, 364.92s/it]\n"
     ]
    }
   ],
   "source": []
  },
  {
   "cell_type": "code",
   "execution_count": null,
   "metadata": {},
   "outputs": [],
   "source": []
  }
 ],
 "metadata": {
  "kernelspec": {
   "display_name": "Python 3",
   "language": "python",
   "name": "python3"
  },
  "language_info": {
   "codemirror_mode": {
    "name": "ipython",
    "version": 3
   },
   "file_extension": ".py",
   "mimetype": "text/x-python",
   "name": "python",
   "nbconvert_exporter": "python",
   "pygments_lexer": "ipython3",
   "version": "3.6.9"
  }
 },
 "nbformat": 4,
 "nbformat_minor": 4
}
