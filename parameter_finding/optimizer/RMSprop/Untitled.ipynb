{
 "cells": [
  {
   "cell_type": "code",
   "execution_count": 4,
   "metadata": {},
   "outputs": [
    {
     "name": "stdout",
     "output_type": "stream",
     "text": [
      "Adam option : lr: 5e-05, decay: 0, amsgrad: False\n",
      "Adam option : lr: 5e-05, decay: 0, amsgrad: True\n",
      "Adam option : lr: 5e-05, decay: 0.001, amsgrad: False\n",
      "Adam option : lr: 5e-05, decay: 0.001, amsgrad: True\n",
      "Adam option : lr: 5e-05, decay: 1e-06, amsgrad: False\n",
      "Adam option : lr: 5e-05, decay: 1e-06, amsgrad: True\n",
      "Adam option : lr: 1e-06, decay: 0, amsgrad: False\n",
      "Adam option : lr: 1e-06, decay: 0, amsgrad: True\n",
      "Adam option : lr: 1e-06, decay: 0.001, amsgrad: False\n",
      "Adam option : lr: 1e-06, decay: 0.001, amsgrad: True\n",
      "Adam option : lr: 1e-06, decay: 1e-06, amsgrad: False\n",
      "Adam option : lr: 1e-06, decay: 1e-06, amsgrad: True\n"
     ]
    }
   ],
   "source": [
    "\n",
    "val_lr = [5e-05, 1e-06]\n",
    "val_decay = [0, 1e-3, 1e-6]\n",
    "val_amsgrad = [False,True]\n",
    "for lr in val_lr:\n",
    "    for decay in val_decay:\n",
    "        for amsgrad in val_amsgrad:\n",
    "            print(\"Adam option : lr: {}, decay: {}, amsgrad: {}\".format(lr,decay,amsgrad))"
   ]
  },
  {
   "cell_type": "code",
   "execution_count": null,
   "metadata": {},
   "outputs": [],
   "source": []
  }
 ],
 "metadata": {
  "kernelspec": {
   "display_name": "Python 3",
   "language": "python",
   "name": "python3"
  },
  "language_info": {
   "codemirror_mode": {
    "name": "ipython",
    "version": 3
   },
   "file_extension": ".py",
   "mimetype": "text/x-python",
   "name": "python",
   "nbconvert_exporter": "python",
   "pygments_lexer": "ipython3",
   "version": "3.6.9"
  }
 },
 "nbformat": 4,
 "nbformat_minor": 4
}
