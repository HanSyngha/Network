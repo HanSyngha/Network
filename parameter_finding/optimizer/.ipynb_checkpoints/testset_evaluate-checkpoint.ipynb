{
 "cells": [
  {
   "cell_type": "code",
   "execution_count": 1,
   "metadata": {},
   "outputs": [],
   "source": [
    "from random import *\n",
    "import os\n",
    "os.environ[\"CUDA_DEVICE_ORDER\"] = \"PCI_BUS_ID\"\n",
    "os.environ['CUDA_VISIBLE_DEVICES'] = '1'\n",
    "os.environ[\"TF_CPP_MIN_LOG_LEVEL\"] = '3'\n",
    "import PIL\n",
    "import tensorflow as tf\n",
    "import numpy as np\n",
    "from keras import layers\n",
    "from keras.models import load_model\n",
    "from keras.preprocessing.image import ImageDataGenerator\n",
    "from keras.applications import VGG16\n",
    "from keras.optimizers import SGD\n",
    "from keras import Sequential\n",
    "import math\n",
    "import sys\n",
    "import gc\n"
   ]
  },
  {
   "cell_type": "code",
   "execution_count": 2,
   "metadata": {},
   "outputs": [],
   "source": [
    "tf.random.set_seed(960312)\n",
    "\n",
    "number_of_packer_to_drop = 1\n",
    "path = \"/media/2/Network/extracted_feature/whole_shuffle_to_19/with_error_whole/\"\n",
    "training_result_file =  \"result_back_1_adam.txt\"\n",
    "back_layer_file = \"/media/2/Network/pretrained_model/back_layers_19~.h5\"\n",
    "val_lr = [5e-05, 1e-06]\n",
    "val_decay = [0, 1e-3, 1e-6]\n",
    "val_amsgrad = [False,True]\n",
    "\n",
    "test_data = np.load(path+\"testing_features.npy\",mmap_mode=\"r\")\n",
    "test_label = np.load(path+\"testing_label.npy\",mmap_mode=\"r\")"
   ]
  },
  {
   "cell_type": "code",
   "execution_count": 14,
   "metadata": {},
   "outputs": [],
   "source": [
    "def packet_drop(arr,number_of_packer_to_drop):\n",
    "    index = randrange(65-number_of_packer_to_drop)\n",
    "    arr[:,:,index*8:(index*8+8*number_of_packer_to_drop)] = 0\n",
    "def error_injection(data,number_of_packer_to_drop):\n",
    "    for img in data:\n",
    "        packet_drop(img,number_of_packer_to_drop)"
   ]
  },
  {
   "cell_type": "code",
   "execution_count": 11,
   "metadata": {},
   "outputs": [
    {
     "name": "stdout",
     "output_type": "stream",
     "text": [
      "WARNING:tensorflow:No training configuration found in the save file, so the model was *not* compiled. Compile it manually.\n",
      "1563/1563 [==============================] - 9s 6ms/step - loss: 2.7649 - accuracy: 0.6558\n",
      "with packet error result == loss :2.765, Acc : 65.58% \n"
     ]
    }
   ],
   "source": [
    "back_layer = load_model(back_layer_file)\n",
    "back_layer.layers[1].trainable = True\n",
    "for i in range(2,4):\n",
    "    back_layer.layers[i].trainable = False\n",
    "    #optimizer = tf.keras.optimizers.Adagrad(lr=val_lr, decay=0)\n",
    "optimizer = tf.keras.optimizers.Adam(lr=1e-06,beta_1=0.9,beta_2=0.999,epsilon=None, decay=1e-6,amsgrad=True)\n",
    "back_layer.compile(optimizer=optimizer, loss='categorical_crossentropy',metrics=['accuracy'])\n",
    "test_result =back_layer.evaluate(test_data,test_label)\n",
    "print(\"with packet error result == loss :{:.4}, Acc : {:.4}% \".format(test_result[0], test_result[1]*100))"
   ]
  },
  {
   "cell_type": "code",
   "execution_count": 6,
   "metadata": {},
   "outputs": [
    {
     "name": "stdout",
     "output_type": "stream",
     "text": [
      "testing_features.npy  train_features_400000.npy  train_label_400000.npy\n",
      "testing_label.npy     train_features_800000.npy  train_label_800000.npy\n",
      "train_features_0.npy  train_label_0.npy\t\t with_error_whole\n"
     ]
    }
   ],
   "source": [
    "!ls /media/2/Network/extracted_feature/whole_shuffle_to_19/"
   ]
  },
  {
   "cell_type": "code",
   "execution_count": 7,
   "metadata": {},
   "outputs": [],
   "source": [
    "original_path = \"/media/2/Network/extracted_feature/whole_shuffle_to_19/\"\n",
    "test_data_original = np.load(original_path+\"testing_features.npy\",mmap_mode=\"r\")\n",
    "test_label_original = np.load(original_path+\"testing_label.npy\",mmap_mode=\"r\")"
   ]
  },
  {
   "cell_type": "code",
   "execution_count": 12,
   "metadata": {},
   "outputs": [
    {
     "name": "stdout",
     "output_type": "stream",
     "text": [
      "1563/1563 [==============================] - 9s 6ms/step - loss: 2.7567 - accuracy: 0.6589\n",
      "original packet result == loss :2.757, Acc : 65.89% \n"
     ]
    }
   ],
   "source": [
    "test_result =back_layer.evaluate(test_data_original,test_label_original)\n",
    "print(\"original packet result == loss :{:.4}, Acc : {:.4}% \".format(test_result[0], test_result[1]*100))"
   ]
  },
  {
   "cell_type": "code",
   "execution_count": 15,
   "metadata": {},
   "outputs": [
    {
     "name": "stdout",
     "output_type": "stream",
     "text": [
      "1563/1563 [==============================] - 9s 6ms/step - loss: 2.7739 - accuracy: 0.6551\n",
      "1 of packet error result == loss :2.774, Acc : 65.51% \n",
      "1563/1563 [==============================] - 9s 6ms/step - loss: 2.7706 - accuracy: 0.6554\n",
      "2 of packet error result == loss :2.771, Acc : 65.54% \n",
      "1563/1563 [==============================] - 9s 6ms/step - loss: 2.7712 - accuracy: 0.6553\n",
      "3 of packet error result == loss :2.771, Acc : 65.53% \n",
      "1563/1563 [==============================] - 9s 6ms/step - loss: 2.7713 - accuracy: 0.6552\n",
      "4 of packet error result == loss :2.771, Acc : 65.52% \n",
      "1563/1563 [==============================] - 10s 6ms/step - loss: 2.7639 - accuracy: 0.6545\n",
      "5 of packet error result == loss :2.764, Acc : 65.45% \n",
      "1563/1563 [==============================] - 9s 6ms/step - loss: 2.7696 - accuracy: 0.6554\n",
      "6 of packet error result == loss :2.77, Acc : 65.54% \n",
      "1563/1563 [==============================] - 11s 7ms/step - loss: 2.7690 - accuracy: 0.6540\n",
      "7 of packet error result == loss :2.769, Acc : 65.4% \n",
      "1563/1563 [==============================] - 9s 6ms/step - loss: 2.7698 - accuracy: 0.6554\n",
      "8 of packet error result == loss :2.77, Acc : 65.54% \n",
      "1563/1563 [==============================] - 9s 6ms/step - loss: 2.7648 - accuracy: 0.6553\n",
      "9 of packet error result == loss :2.765, Acc : 65.53% \n",
      "1563/1563 [==============================] - 9s 6ms/step - loss: 2.7648 - accuracy: 0.6548\n",
      "10 of packet error result == loss :2.765, Acc : 65.48% \n"
     ]
    }
   ],
   "source": [
    "for i in range(1,11):\n",
    "    test_data = np.load(original_path+\"testing_features.npy\")\n",
    "    test_label = np.load(original_path+\"testing_label.npy\")\n",
    "    error_injection(test_data)\n",
    "    test_result =back_layer.evaluate(test_data,test_label)\n",
    "    print(i,\"of packet error result == loss :{:.4}, Acc : {:.4}% \".format(test_result[0], test_result[1]*100))"
   ]
  },
  {
   "cell_type": "code",
   "execution_count": null,
   "metadata": {},
   "outputs": [],
   "source": []
  }
 ],
 "metadata": {
  "kernelspec": {
   "display_name": "Python 3",
   "language": "python",
   "name": "python3"
  },
  "language_info": {
   "codemirror_mode": {
    "name": "ipython",
    "version": 3
   },
   "file_extension": ".py",
   "mimetype": "text/x-python",
   "name": "python",
   "nbconvert_exporter": "python",
   "pygments_lexer": "ipython3",
   "version": "3.6.9"
  }
 },
 "nbformat": 4,
 "nbformat_minor": 4
}
