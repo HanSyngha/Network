{
 "cells": [
  {
   "cell_type": "code",
   "execution_count": 1,
   "metadata": {},
   "outputs": [],
   "source": [
    "from random import *\n",
    "import os\n",
    "from tqdm import tqdm\n",
    "os.environ[\"CUDA_DEVICE_ORDER\"] = \"PCI_BUS_ID\"\n",
    "os.environ['CUDA_VISIBLE_DEVICES'] = '3'\n",
    "os.environ[\"TF_CPP_MIN_LOG_LEVEL\"] = '3'\n",
    "import PIL\n",
    "import tensorflow as tf\n",
    "import numpy as np\n",
    "from keras import layers\n",
    "from keras.models import load_model\n",
    "from keras.preprocessing.image import ImageDataGenerator\n",
    "from keras.applications import VGG16\n",
    "from keras.optimizers import SGD\n",
    "from keras import Sequential\n",
    "import warnings\n",
    "import math\n",
    "import sys\n",
    "import gc"
   ]
  },
  {
   "cell_type": "code",
   "execution_count": 2,
   "metadata": {},
   "outputs": [],
   "source": [
    "tf.random.set_seed(960312)\n",
    "# pooling 5 status - 256 channels\n",
    "def packet_drop(arr):\n",
    "    index = randrange(256-8)\n",
    "    arr[:,:,index:(index+8)] = 0\n",
    "def error_injection(data):\n",
    "    for img in tqdm(data):\n",
    "        packet_drop(img)"
   ]
  },
  {
   "cell_type": "code",
   "execution_count": 3,
   "metadata": {},
   "outputs": [],
   "source": [
    "path = \"/media/2/Network/extracted_feature/whole_shuffle_to_19/with_error_whole/\""
   ]
  },
  {
   "cell_type": "code",
   "execution_count": 4,
   "metadata": {},
   "outputs": [
    {
     "data": {
      "text/plain": [
       "((1279036, 7, 7, 512), (1279036, 1000))"
      ]
     },
     "execution_count": 4,
     "metadata": {},
     "output_type": "execute_result"
    }
   ],
   "source": [
    "train_data = np.load(path+\"whole_feature.npy\",mmap_mode=\"r\")\n",
    "train_label = np.load(path+\"whole_label.npy\",mmap_mode=\"r\")\n",
    "train_data.shape, train_label.shape"
   ]
  },
  {
   "cell_type": "code",
   "execution_count": 5,
   "metadata": {},
   "outputs": [
    {
     "data": {
      "text/plain": [
       "((50000, 7, 7, 512), (50000, 1000))"
      ]
     },
     "execution_count": 5,
     "metadata": {},
     "output_type": "execute_result"
    }
   ],
   "source": [
    "test_data = np.load(path+\"testing_features.npy\",mmap_mode=\"r\")\n",
    "test_label = np.load(path+\"testing_label.npy\",mmap_mode=\"r\")\n",
    "test_data.shape, test_label.shape"
   ]
  },
  {
   "cell_type": "code",
   "execution_count": 6,
   "metadata": {},
   "outputs": [
    {
     "data": {
      "text/plain": [
       "'\\noriginal_path = \"/media/2/Network/extracted_feature/whole_shuffle_to_19/\"\\ntest_data_original = np.load(original_path+\"testing_features.npy\",mmap_mode=\"r\")\\ntest_label_original = np.load(original_path+\"testing_label.npy\",mmap_mode=\"r\")\\n'"
      ]
     },
     "execution_count": 6,
     "metadata": {},
     "output_type": "execute_result"
    }
   ],
   "source": [
    "\"\"\"\n",
    "original_path = \"/media/2/Network/extracted_feature/whole_shuffle_to_19/\"\n",
    "test_data_original = np.load(original_path+\"testing_features.npy\",mmap_mode=\"r\")\n",
    "test_label_original = np.load(original_path+\"testing_label.npy\",mmap_mode=\"r\")\n",
    "\"\"\"\n",
    "#result = back_layer.evaluate(test_data_original,test_label_original)\n",
    " "
   ]
  },
  {
   "cell_type": "code",
   "execution_count": null,
   "metadata": {},
   "outputs": [],
   "source": []
  },
  {
   "cell_type": "code",
   "execution_count": null,
   "metadata": {},
   "outputs": [
    {
     "name": "stdout",
     "output_type": "stream",
     "text": [
      "INFO:tensorflow:Using MirroredStrategy with devices ('/job:localhost/replica:0/task:0/device:GPU:0',)\n",
      "WARNING:tensorflow:No training configuration found in the save file, so the model was *not* compiled. Compile it manually.\n",
      "Model: \"sequential_4\"\n",
      "_________________________________________________________________\n",
      "Layer (type)                 Output Shape              Param #   \n",
      "=================================================================\n",
      "flatten (Flatten)            (None, 25088)             0         \n",
      "_________________________________________________________________\n",
      "fc1 (Dense)                  (None, 4096)              102764544 \n",
      "_________________________________________________________________\n",
      "fc2 (Dense)                  (None, 4096)              16781312  \n",
      "_________________________________________________________________\n",
      "predictions (Dense)          (None, 1000)              4097000   \n",
      "=================================================================\n",
      "Total params: 123,642,856\n",
      "Trainable params: 123,642,856\n",
      "Non-trainable params: 0\n",
      "_________________________________________________________________\n",
      "WARNING:tensorflow:From /home/hwbae0326/.local/lib/python3.6/site-packages/tensorflow/python/data/ops/multi_device_iterator_ops.py:601: get_next_as_optional (from tensorflow.python.data.ops.iterator_ops) is deprecated and will be removed in a future version.\n",
      "Instructions for updating:\n",
      "Use `tf.data.Iterator.get_next_as_optional()` instead.\n",
      "INFO:tensorflow:Reduce to /job:localhost/replica:0/task:0/device:CPU:0 then broadcast to ('/job:localhost/replica:0/task:0/device:CPU:0',).\n",
      "INFO:tensorflow:Reduce to /job:localhost/replica:0/task:0/device:CPU:0 then broadcast to ('/job:localhost/replica:0/task:0/device:CPU:0',).\n",
      "INFO:tensorflow:Reduce to /job:localhost/replica:0/task:0/device:CPU:0 then broadcast to ('/job:localhost/replica:0/task:0/device:CPU:0',).\n",
      "INFO:tensorflow:Reduce to /job:localhost/replica:0/task:0/device:CPU:0 then broadcast to ('/job:localhost/replica:0/task:0/device:CPU:0',).\n",
      "INFO:tensorflow:Reduce to /job:localhost/replica:0/task:0/device:CPU:0 then broadcast to ('/job:localhost/replica:0/task:0/device:CPU:0',).\n",
      "INFO:tensorflow:Reduce to /job:localhost/replica:0/task:0/device:CPU:0 then broadcast to ('/job:localhost/replica:0/task:0/device:CPU:0',).\n",
      "INFO:tensorflow:Reduce to /job:localhost/replica:0/task:0/device:CPU:0 then broadcast to ('/job:localhost/replica:0/task:0/device:CPU:0',).\n",
      "INFO:tensorflow:Reduce to /job:localhost/replica:0/task:0/device:CPU:0 then broadcast to ('/job:localhost/replica:0/task:0/device:CPU:0',).\n"
     ]
    }
   ],
   "source": [
    "\n",
    "#SGD_optimizer = SGD(lr=1e-2, decay=5e-4, momentum=0.9, nesterov=False)\n",
    "SGD_optimizer = tf.keras.optimizers.Adagrad(lr=0.01, decay=0)\n",
    "multi_gpu= tf.distribute.MirroredStrategy()\n",
    "with multi_gpu.scope():\n",
    "    back_layer = load_model(\"/media/2/Network/pretrained_model/back_layers_19~.h5\")\n",
    "    back_layer.compile(optimizer=SGD_optimizer, loss='categorical_crossentropy',\n",
    "                       metrics=\"acc\")#[top_5])\n",
    "back_layer.summary()\n",
    "    # validation split이 0.2니까 training feature의 20%를 validation using\n",
    "        \n",
    "hist = back_layer.fit(train_data,train_label, epochs=1, verbose=1,\n",
    "                             use_multiprocessing=True, validation_split=0.2,\n",
    "                             batch_size=512,shuffle=True)\n",
    "    ############ evaluate ####################\n",
    "\n",
    "\n",
    "\"\"\"\n",
    "        f = open(\"./result_tmp\",mode=\"a\")\n",
    "        print(\"momentum :{} == {} th model Acc : {:.4}%, loss: {:.4}\".format(momentum_var,i,result[1]*100,result[0]),file=f )\n",
    "        print(\"momentum :{} == {} th model Acc : {:.4}%, loss: {:.4}\".format(momentum_var,i,result[1]*100,result[0]) )\n",
    "        f.close()\n",
    "        if i !=0 and ( i%10==0 or i==9 ):\n",
    "            back_layer.save(\"/media/3/Network/retrain_model_dir/pooling5/momentums/\"+str(i)+\"momentum_\"+str(momentum_var)+\"_back_layer_.h5\")\n",
    "        #del test_data, test_label\n",
    "        gc.collect()\n",
    "\"\"\"\n",
    "gc.collect()"
   ]
  },
  {
   "cell_type": "code",
   "execution_count": 8,
   "metadata": {},
   "outputs": [
    {
     "name": "stdout",
     "output_type": "stream",
     "text": [
      "500/500 [==============================] - 12s 25ms/step - loss: 0.1845 - acc: 0.9687\n"
     ]
    }
   ],
   "source": [
    "result = back_layer.evaluate(test_data,test_label)"
   ]
  },
  {
   "cell_type": "code",
   "execution_count": 10,
   "metadata": {},
   "outputs": [
    {
     "name": "stdout",
     "output_type": "stream",
     "text": [
      "0 th model Acc : 96.87%, loss: 0.1845\n"
     ]
    }
   ],
   "source": [
    "i=0\n",
    "print(\"{} th model Acc : {:.4}%, loss: {:.4}\".format(i,result[1]*100,result[0]) )\n",
    "    "
   ]
  },
  {
   "cell_type": "code",
   "execution_count": 22,
   "metadata": {},
   "outputs": [
    {
     "data": {
      "image/png": "[encoded data removed]",
      "text/plain": [
       "<Figure size 432x288 with 2 Axes>"
      ]
     },
     "metadata": {
      "needs_background": "light"
     },
     "output_type": "display_data"
    }
   ],
   "source": [
    "import matplotlib.pyplot as plt\n",
    "\n",
    "fig, loss_ax = plt.subplots()\n",
    "acc_ax = loss_ax.twinx()\n",
    "\n",
    "loss_ax.plot(hist.history['loss'], 'y', label='train loss')\n",
    "loss_ax.plot(hist.history['val_loss'], 'r', label='val loss')\n",
    "loss_ax.set_xlabel('epoch')\n",
    "loss_ax.set_ylabel('loss')\n",
    "loss_ax.legend(loc='upper left')\n",
    "\n",
    "acc_ax.plot(hist.history['acc'], 'b', label='train acc')\n",
    "acc_ax.plot(hist.history['val_acc'], 'g', label='val acc')\n",
    "acc_ax.set_ylabel('accuracy')\n",
    "acc_ax.legend(loc='upper right')\n",
    "\n",
    "plt.show()"
   ]
  },
  {
   "cell_type": "code",
   "execution_count": null,
   "metadata": {
    "scrolled": true
   },
   "outputs": [],
   "source": []
  },
  {
   "cell_type": "code",
   "execution_count": 12,
   "metadata": {
    "scrolled": true
   },
   "outputs": [
    {
     "name": "stdout",
     "output_type": "stream",
     "text": [
      "0.1 starting\n",
      "WARNING:tensorflow:No training configuration found in the save file, so the model was *not* compiled. Compile it manually.\n",
      "Model: \"sequential_4\"\n",
      "_________________________________________________________________\n",
      "Layer (type)                 Output Shape              Param #   \n",
      "=================================================================\n",
      "flatten (Flatten)            (None, 25088)             0         \n",
      "_________________________________________________________________\n",
      "fc1 (Dense)                  (None, 4096)              102764544 \n",
      "_________________________________________________________________\n",
      "fc2 (Dense)                  (None, 4096)              16781312  \n",
      "_________________________________________________________________\n",
      "predictions (Dense)          (None, 1000)              4097000   \n",
      "=================================================================\n",
      "Total params: 123,642,856\n",
      "Trainable params: 123,642,856\n",
      "Non-trainable params: 0\n",
      "_________________________________________________________________\n",
      "Epoch 1/10\n",
      "15988/15988 [==============================] - 244s 15ms/step - loss: 0.2189 - acc: 0.9507 - val_loss: 0.1521 - val_acc: 0.9653\n",
      "Epoch 2/10\n",
      "15988/15988 [==============================] - 247s 15ms/step - loss: 0.0233 - acc: 0.9932 - val_loss: 0.1513 - val_acc: 0.9685\n",
      "Epoch 3/10\n",
      "15988/15988 [==============================] - 247s 15ms/step - loss: 0.0107 - acc: 0.9964 - val_loss: 0.1621 - val_acc: 0.9687\n",
      "Epoch 4/10\n",
      "15988/15988 [==============================] - 245s 15ms/step - loss: 0.0084 - acc: 0.9967 - val_loss: 0.1686 - val_acc: 0.9689\n",
      "Epoch 5/10\n",
      "15988/15988 [==============================] - 244s 15ms/step - loss: 0.0072 - acc: 0.9969 - val_loss: 0.1741 - val_acc: 0.9688\n",
      "Epoch 6/10\n",
      "15988/15988 [==============================] - 244s 15ms/step - loss: 0.0064 - acc: 0.9971 - val_loss: 0.1783 - val_acc: 0.9690\n",
      "Epoch 7/10\n",
      "15988/15988 [==============================] - 240s 15ms/step - loss: 0.0059 - acc: 0.9972 - val_loss: 0.1815 - val_acc: 0.9690\n",
      "Epoch 8/10\n",
      "15988/15988 [==============================] - 237s 15ms/step - loss: 0.0054 - acc: 0.9974 - val_loss: 0.1842 - val_acc: 0.9688\n",
      "Epoch 9/10\n",
      "15988/15988 [==============================] - 232s 15ms/step - loss: 0.0051 - acc: 0.9975 - val_loss: 0.1868 - val_acc: 0.9690\n",
      "Epoch 10/10\n",
      "15988/15988 [==============================] - 241s 15ms/step - loss: 0.0047 - acc: 0.9976 - val_loss: 0.1889 - val_acc: 0.9690\n",
      "1563/1563 [==============================] - 9s 6ms/step - loss: 2.6416 - acc: 0.6596\n"
     ]
    },
    {
     "ename": "NameError",
     "evalue": "name 'i' is not defined",
     "output_type": "error",
     "traceback": [
      "\u001b[0;31m---------------------------------------------------------------------------\u001b[0m",
      "\u001b[0;31mNameError\u001b[0m                                 Traceback (most recent call last)",
      "\u001b[0;32m<ipython-input-12-9bad4a9be5e4>\u001b[0m in \u001b[0;36m<module>\u001b[0;34m\u001b[0m\n\u001b[1;32m     19\u001b[0m     \u001b[0;31m############ evaluate ####################\u001b[0m\u001b[0;34m\u001b[0m\u001b[0;34m\u001b[0m\u001b[0;34m\u001b[0m\u001b[0m\n\u001b[1;32m     20\u001b[0m     \u001b[0mresult\u001b[0m \u001b[0;34m=\u001b[0m \u001b[0mback_layer\u001b[0m\u001b[0;34m.\u001b[0m\u001b[0mevaluate\u001b[0m\u001b[0;34m(\u001b[0m\u001b[0mtest_data\u001b[0m\u001b[0;34m,\u001b[0m\u001b[0mtest_label\u001b[0m\u001b[0;34m)\u001b[0m\u001b[0;34m\u001b[0m\u001b[0;34m\u001b[0m\u001b[0m\n\u001b[0;32m---> 21\u001b[0;31m     \u001b[0mprint\u001b[0m\u001b[0;34m(\u001b[0m\u001b[0;34m\"momentum :{} == {} th model Acc : {:.4}%, loss: {:.4}\"\u001b[0m\u001b[0;34m.\u001b[0m\u001b[0mformat\u001b[0m\u001b[0;34m(\u001b[0m\u001b[0mmomentum_var\u001b[0m\u001b[0;34m,\u001b[0m\u001b[0mi\u001b[0m\u001b[0;34m,\u001b[0m\u001b[0mresult\u001b[0m\u001b[0;34m[\u001b[0m\u001b[0;36m1\u001b[0m\u001b[0;34m]\u001b[0m\u001b[0;34m*\u001b[0m\u001b[0;36m100\u001b[0m\u001b[0;34m,\u001b[0m\u001b[0mresult\u001b[0m\u001b[0;34m[\u001b[0m\u001b[0;36m0\u001b[0m\u001b[0;34m]\u001b[0m\u001b[0;34m)\u001b[0m \u001b[0;34m)\u001b[0m\u001b[0;34m\u001b[0m\u001b[0;34m\u001b[0m\u001b[0m\n\u001b[0m\u001b[1;32m     22\u001b[0m \u001b[0;34m\u001b[0m\u001b[0m\n\u001b[1;32m     23\u001b[0m     \"\"\"\n",
      "\u001b[0;31mNameError\u001b[0m: name 'i' is not defined"
     ]
    }
   ],
   "source": [
    "#momentums = [0,0.1,0.2,0.3,0.4,0.5,0.6,0.7,0.8,0.9,1.0]\n",
    "#momentums = [0.1,0.4,0.9]]\n",
    "momentums = [0.1,0.4,0.9]\n",
    "def top_5(y_true,y_pred):\n",
    "    return tf.keras.metrics.top_k_categorical_accuracy(y_true,y_pred,k=5)\n",
    "warnings.simplefilter(action='ignore', category=FutureWarning)\n",
    "for momentum_var in momentums :\n",
    "    print(momentum_var,\"starting\")\n",
    "    SGD_optimizer = SGD(lr=0.005, decay=1e-6, momentum=momentum_var, nesterov=True)\n",
    "    back_layer = load_model(\"/media/2/Network/pretrained_model/back_layers_19~.h5\")\n",
    "    multi_gpu= tf.distribute.MirroredStrategy()\n",
    "    with multi_gpu.scope():\n",
    "        back_layer.compile(optimizer=SGD_optimizer, loss='categorical_crossentropy',\n",
    "                       metrics=\"acc\")#[top_5])\n",
    "    back_layer.summary()\n",
    "    # validation split이 0.2니까 training feature의 20%를 validation using\n",
    "        \n",
    "    hist = back_layer.fit(train_data,train_label, epochs=10, verbose=1,\n",
    "                             use_multiprocessing=True, validation_split=0.2,\n",
    "                             batch_size=256,shuffle=True)\n",
    "    ############ evaluate ####################\n",
    "    result = back_layer.evaluate(test_data,test_label)\n",
    "    print(\"momentum :{} == {} th model Acc : {:.4}%, loss: {:.4}\".format(momentum_var,i,result[1]*100,result[0]) )\n",
    "    \n",
    "    \"\"\"\n",
    "        f = open(\"./result_tmp\",mode=\"a\")\n",
    "        print(\"momentum :{} == {} th model Acc : {:.4}%, loss: {:.4}\".format(momentum_var,i,result[1]*100,result[0]),file=f )\n",
    "        print(\"momentum :{} == {} th model Acc : {:.4}%, loss: {:.4}\".format(momentum_var,i,result[1]*100,result[0]) )\n",
    "        f.close()\n",
    "        if i !=0 and ( i%10==0 or i==9 ):\n",
    "            back_layer.save(\"/media/3/Network/retrain_model_dir/pooling5/momentums/\"+str(i)+\"momentum_\"+str(momentum_var)+\"_back_layer_.h5\")\n",
    "        #del test_data, test_label\n",
    "        gc.collect()\n",
    "    \"\"\"\n",
    "    gc.collect()\n",
    "    "
   ]
  }
 ],
 "metadata": {
  "kernelspec": {
   "display_name": "Python 3",
   "language": "python",
   "name": "python3"
  },
  "language_info": {
   "codemirror_mode": {
    "name": "ipython",
    "version": 3
   },
   "file_extension": ".py",
   "mimetype": "text/x-python",
   "name": "python",
   "nbconvert_exporter": "python",
   "pygments_lexer": "ipython3",
   "version": "3.6.9"
  },
  "toc-autonumbering": false,
  "toc-showcode": false,
  "toc-showmarkdowntxt": false
 },
 "nbformat": 4,
 "nbformat_minor": 4
}
